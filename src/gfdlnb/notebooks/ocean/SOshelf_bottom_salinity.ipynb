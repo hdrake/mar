{
 "cells": [
  {
   "cell_type": "code",
   "execution_count": 1,
   "id": "404bcfc7-f047-42d5-a787-aa8948a4a828",
   "metadata": {
    "editable": true,
    "slideshow": {
     "slide_type": ""
    },
    "tags": []
   },
   "outputs": [],
   "source": [
    "# For testing and development purposes, enter a start year, end year, and\n",
    "# an dora id number to analyze. The value of dora_id can also be a direct\n",
    "# path to a /pp directory.\n",
    "\n",
    "config = {\n",
    "    \"startyr\": 1998,\n",
    "    \"endyr\": 2017,\n",
    "    \"dora_id\": \"odiv-484\",\n",
    "}"
   ]
  },
  {
   "cell_type": "code",
   "execution_count": 2,
   "id": "9d92cf23-342d-448d-9d49-f152aedcaf88",
   "metadata": {
    "editable": true,
    "slideshow": {
     "slide_type": ""
    },
    "tags": []
   },
   "outputs": [],
   "source": [
    "# Make sure this cell is active so that the workflow and Dora can update\n",
    "# the config dictionary at runtime.\n",
    "\n",
    "from gfdlnb.tools.update_notebook_config import update_notebook_config\n",
    "config = update_notebook_config(config)"
   ]
  },
  {
   "cell_type": "code",
   "execution_count": 3,
   "id": "d864b263-f9ec-4aff-9411-0749372a859e",
   "metadata": {
    "editable": true,
    "slideshow": {
     "slide_type": ""
    },
    "tags": []
   },
   "outputs": [
    {
     "name": "stdout",
     "output_type": "stream",
     "text": [
      "{'startyr': 1998, 'endyr': 2017, 'dora_id': '/archive/John.Krasting/fre_om5/FMS2024.02_om5_20250206/om5_b08/gfdl.ncrc5-intel23-prod/pp'}\n"
     ]
    }
   ],
   "source": [
    "print(str(config))"
   ]
  },
  {
   "cell_type": "code",
   "execution_count": 4,
   "id": "8e2431b8-7599-444c-ad4e-adf5989a7db5",
   "metadata": {
    "editable": true,
    "slideshow": {
     "slide_type": ""
    },
    "tags": []
   },
   "outputs": [],
   "source": [
    "import os\n",
    "import datetime\n",
    "import doralite\n",
    "import xarray as xr\n",
    "import matplotlib.pyplot as plt\n",
    "import numpy as np\n",
    "import pandas as pd\n",
    "import doralite\n",
    "import glob\n",
    "import subprocess\n",
    "import momlevel\n",
    "import itertools\n",
    "from datetime import timedelta"
   ]
  },
  {
   "cell_type": "code",
   "execution_count": 5,
   "id": "55761ca6-2cc3-4eb6-a295-f1efdb13337f",
   "metadata": {
    "editable": true,
    "slideshow": {
     "slide_type": ""
    },
    "tags": []
   },
   "outputs": [],
   "source": [
    "import momgrid\n",
    "os.environ[\"MOMGRID_WEIGHTS_DIR\"] = \"/nbhome/John.Krasting/grid_weights\""
   ]
  },
  {
   "cell_type": "markdown",
   "id": "2a4e68d9-16fe-48ef-901c-b99dc6e89704",
   "metadata": {
    "editable": true,
    "slideshow": {
     "slide_type": ""
    },
    "tags": []
   },
   "source": [
    "### Definie Local Parameters"
   ]
  },
  {
   "cell_type": "code",
   "execution_count": 6,
   "id": "4fc48875-baa7-4636-8a20-dea1e1870c01",
   "metadata": {
    "editable": true,
    "slideshow": {
     "slide_type": ""
    },
    "tags": []
   },
   "outputs": [],
   "source": [
    "#List of all experiments to consider\n",
    "experiments = [doralite.dora_metadata(x) for x in config[\"dora_id\"].split(\",\")]\n",
    "\n",
    "# Define start and end years\n",
    "start = config[\"startyr\"]\n",
    "start = int(start) if start is not None else 1\n",
    "\n",
    "end = config[\"endyr\"]\n",
    "end = int(end) if end is not None else 9999"
   ]
  },
  {
   "cell_type": "markdown",
   "id": "115ddf3b-0066-4ebb-b858-f860cde75ee6",
   "metadata": {
    "editable": true,
    "slideshow": {
     "slide_type": ""
    },
    "tags": []
   },
   "source": [
    "### Determine What Files to Load"
   ]
  },
  {
   "cell_type": "code",
   "execution_count": 7,
   "id": "3ac844ca-940f-4ed3-8dfa-7eb8e031a37d",
   "metadata": {
    "editable": true,
    "slideshow": {
     "slide_type": ""
    },
    "tags": []
   },
   "outputs": [],
   "source": [
    "def is_in_range(file,start,end):\n",
    "    start = int(start)\n",
    "    end = int(end)\n",
    "    target = set(list(range(start,end+1)))\n",
    "    fname = os.path.basename(file)\n",
    "    times = fname.split(\".\")[1]\n",
    "    times = times.split(\"-\")\n",
    "    times = [int(x[0:4]) for x in times]\n",
    "    candidate = set(list(range(times[0],times[1]+1)))\n",
    "    return len(candidate.intersection(target)) > 0"
   ]
  },
  {
   "cell_type": "code",
   "execution_count": 8,
   "id": "85d55b68-9851-4b1a-a9fe-8e869939b0da",
   "metadata": {
    "editable": true,
    "slideshow": {
     "slide_type": ""
    },
    "tags": []
   },
   "outputs": [],
   "source": [
    "# Define some local variables. These are taken from the doralite object\n",
    "# or they can be defined locally\n",
    "\n",
    "# 1. List of all experiments to consider\n",
    "experiments = [doralite.dora_metadata(x) for x in config[\"dora_id\"].split(\",\")]"
   ]
  },
  {
   "cell_type": "code",
   "execution_count": 9,
   "id": "3446c520-825a-4de6-9ae8-008cdacdfea5",
   "metadata": {
    "editable": true,
    "slideshow": {
     "slide_type": ""
    },
    "tags": []
   },
   "outputs": [],
   "source": [
    "datafiles = []\n",
    "staticfiles = []\n",
    "\n",
    "for experiment in experiments:\n",
    "    _pathPP = experiment[\"pathPP\"]\n",
    "    \n",
    "    component = \"ocean_annual_z\"\n",
    "    static = f\"{component}/{component}.static.nc\"\n",
    "    varname = \"so\"\n",
    "    \n",
    "    chunk = \"5yr\"\n",
    "    filelist = sorted(glob.glob(f\"{_pathPP}{component}/ts/annual/{chunk}/{component}.*.{varname}.nc\"))\n",
    "    \n",
    "    filelist = [x for x in filelist if is_in_range(x,start,end)]\n",
    "    _staticfile = f\"{_pathPP}/{static}\"\n",
    "    \n",
    "    staticfiles.append(_staticfile)\n",
    "    datafiles.append(filelist)"
   ]
  },
  {
   "cell_type": "code",
   "execution_count": 10,
   "id": "78c2daae-7695-4f1b-8629-dc6c3d85f788",
   "metadata": {
    "editable": true,
    "slideshow": {
     "slide_type": ""
    },
    "tags": []
   },
   "outputs": [
    {
     "name": "stdout",
     "output_type": "stream",
     "text": [
      "/archive/John.Krasting/fre_om5/FMS2024.02_om5_20250206/om5_b08/gfdl.ncrc5-intel23-prod/pp//ocean_annual_z/ocean_annual_z.static.nc\n",
      "/archive/John.Krasting/fre_om5/FMS2024.02_om5_20250206/om5_b08/gfdl.ncrc5-intel23-prod/pp/ocean_annual_z/ts/annual/5yr/ocean_annual_z.1998-2002.so.nc\n",
      "/archive/John.Krasting/fre_om5/FMS2024.02_om5_20250206/om5_b08/gfdl.ncrc5-intel23-prod/pp/ocean_annual_z/ts/annual/5yr/ocean_annual_z.2003-2007.so.nc\n",
      "/archive/John.Krasting/fre_om5/FMS2024.02_om5_20250206/om5_b08/gfdl.ncrc5-intel23-prod/pp/ocean_annual_z/ts/annual/5yr/ocean_annual_z.2008-2012.so.nc\n",
      "/archive/John.Krasting/fre_om5/FMS2024.02_om5_20250206/om5_b08/gfdl.ncrc5-intel23-prod/pp/ocean_annual_z/ts/annual/5yr/ocean_annual_z.2013-2017.so.nc\n",
      "Calling dmget on files ...\n"
     ]
    }
   ],
   "source": [
    "allfiles = sorted(list(itertools.chain(*datafiles)) + staticfiles)\n",
    "_ = [print(x) for x in allfiles]\n",
    "\n",
    "if not \"DORA_EXECUTE\" in os.environ.keys():\n",
    "    print(\"Calling dmget on files ...\")\n",
    "    cmd = [\"dmget\"]+allfiles\n",
    "    _ = subprocess.check_output(cmd)"
   ]
  },
  {
   "cell_type": "markdown",
   "id": "52daaf45-7f56-4eab-94d8-8457a3c9282e",
   "metadata": {
    "editable": true,
    "slideshow": {
     "slide_type": ""
    },
    "tags": [
     "stop_here"
    ]
   },
   "source": [
    "### Note- this is using a quick and dirty shelf estimate using 1000m bathymetry south of 60S..."
   ]
  },
  {
   "cell_type": "code",
   "execution_count": 11,
   "id": "1e164185-c8f0-49f5-a373-4853bf89a629",
   "metadata": {
    "editable": true,
    "slideshow": {
     "slide_type": ""
    },
    "tags": []
   },
   "outputs": [],
   "source": [
    "# static = xr.open_dataset(staticfiles[0])\n",
    "\n",
    "# idx_SO_1k = (static.geolat <= -60) & (static.deptho <= 1000)\n",
    "# mask_SOshelf = xr.where(idx_SO_1k, 1, np.nan)"
   ]
  },
  {
   "cell_type": "code",
   "execution_count": 12,
   "id": "4284b86c-5d2d-4882-b1dd-2a822afb075f",
   "metadata": {
    "editable": true,
    "slideshow": {
     "slide_type": ""
    },
    "tags": []
   },
   "outputs": [],
   "source": [
    "# import gsw\n",
    "\n",
    "# ds = xr.open_mfdataset(filelist, use_cftime=True)\n",
    "\n",
    "# p = xr.apply_ufunc(gsw.p_from_z, -1*ds['z_l'], static['geolat'], 0, 0, dask='parallelized')\n",
    "# sa = xr.apply_ufunc(gsw.SA_from_SP, ds.so, p, static['geolon'], static['geolat'], dask='parallelized')  \n",
    "# sa_bottom = (sa * mask_SOshelf).chunk({'time':1}).ffill('z_l').isel(z_l=-1).where(static.wet==1)\n",
    "\n",
    "# #(sa_bottom[0,:,:]).plot()"
   ]
  },
  {
   "cell_type": "code",
   "execution_count": 13,
   "id": "d87d5dcc-acd8-4356-8f07-aa3fe6ea0adb",
   "metadata": {
    "editable": true,
    "slideshow": {
     "slide_type": ""
    },
    "tags": []
   },
   "outputs": [],
   "source": [
    "# area_shelf = (static.areacello * mask_SOshelf).sum(dim=['xh','yh'])\n",
    "\n",
    "# sa_bottom_avg = (sa_bottom * static.areacello).sum(dim=['xh','yh']) / area_shelf\n",
    "\n",
    "# sa_bottom_avg.plot()\n",
    "# plt.title(f\"SO shelf-averaged bottom salinity, {config['dora_id']}\", fontsize=12)\n",
    "# plt.ylabel('S_A (g kg$^{-1}$)', fontsize=10)\n",
    "# #plt.xlim([start, end])"
   ]
  },
  {
   "cell_type": "markdown",
   "id": "3ba8ff08-cb29-4ee6-9ca2-bea7e90cf19b",
   "metadata": {
    "editable": true,
    "slideshow": {
     "slide_type": ""
    },
    "tags": []
   },
   "source": [
    "### Looping through all experiments and creating the figure"
   ]
  },
  {
   "cell_type": "code",
   "execution_count": 14,
   "id": "d2565afc-9512-4514-a588-d77274cb565d",
   "metadata": {
    "editable": true,
    "slideshow": {
     "slide_type": ""
    },
    "tags": []
   },
   "outputs": [
    {
     "data": {
      "image/png": "[encoded data removed]",
      "text/plain": [
       "<Figure size 800x400 with 1 Axes>"
      ]
     },
     "metadata": {},
     "output_type": "display_data"
    }
   ],
   "source": [
    "import gsw\n",
    "\n",
    "fig, axis = plt.subplots(ncols=1, nrows=1, figsize=(8,4), dpi=100)\n",
    "\n",
    "for n,exp in enumerate(experiments):\n",
    "\n",
    "    expName = exp[\"expName\"]\n",
    "    \n",
    "    # Open datasets\n",
    "    ds = xr.open_mfdataset(datafiles[n], use_cftime=True)\n",
    "    static = xr.open_dataset(staticfiles[n], use_cftime=True)\n",
    "    \n",
    "    # Create mask for shelf -- note that this should be updated if you want something \"real\"\n",
    "    idx_SO_1k = (static.geolat <= -60) & (static.deptho <= 1000)\n",
    "    mask_SOshelf = xr.where(idx_SO_1k, 1, np.nan)\n",
    "    \n",
    "    area_shelf = (static.areacello * mask_SOshelf).sum(dim=['xh','yh'])\n",
    "    \n",
    "    # Find bottom salinity, converted to absolute salinity\n",
    "    p = xr.apply_ufunc(gsw.p_from_z, -1*ds['z_l'], static['geolat'], 0, 0, dask='parallelized')\n",
    "    sa = xr.apply_ufunc(gsw.SA_from_SP, ds.so, p, static['geolon'], static['geolat'], dask='parallelized')  \n",
    "    sa_bottom = (sa * mask_SOshelf).chunk({'time':1}).ffill('z_l').isel(z_l=-1).where(static.wet==1)\n",
    "    \n",
    "    sa_bottom_avg = (sa_bottom * static.areacello).sum(dim=['xh','yh']) / area_shelf\n",
    "    \n",
    "    # Plotting\n",
    "    sa_bottom_avg.plot(ax=axis, label=expName, linestyle='solid', linewidth=1.5)\n",
    "    \n",
    "axis.legend(loc='lower right',fontsize=10)\n",
    "axis.set_title(f\"SO shelf-averaged bottom salinity\", fontsize=14)\n",
    "axis.set_ylabel('S_A (g kg$^{-1}$)', fontsize=10)\n",
    "axis.set_xlabel('year', fontsize=12)\n",
    "axis.grid(linewidth=1, linestyle=\"dotted\")"
   ]
  }
 ],
 "metadata": {
  "kernelspec": {
   "display_name": "Python 3 (ipykernel)",
   "language": "python",
   "name": "python3"
  },
  "language_info": {
   "codemirror_mode": {
    "name": "ipython",
    "version": 3
   },
   "file_extension": ".py",
   "mimetype": "text/x-python",
   "name": "python",
   "nbconvert_exporter": "python",
   "pygments_lexer": "ipython3",
   "version": "3.11.6"
  }
 },
 "nbformat": 4,
 "nbformat_minor": 5
}
