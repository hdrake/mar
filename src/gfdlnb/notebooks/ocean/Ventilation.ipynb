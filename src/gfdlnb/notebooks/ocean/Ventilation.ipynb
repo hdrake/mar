{
 "cells": [
  {
   "cell_type": "markdown",
   "id": "45e1a272-763f-4e91-ba4a-a849b14e6e8c",
   "metadata": {},
   "source": [
    "## Global ocean ventilation\n",
    "\n",
    "* This notebook ...\n",
    "* Author: Henri Drake (modified from John Dunne's ferret script: `/net/jpd/ESM4.5/esm4.5_vent_analysis.jnl`)"
   ]
  },
  {
   "cell_type": "code",
   "execution_count": 1,
   "id": "c5167360-d9de-4267-a5a5-150aafe24b59",
   "metadata": {},
   "outputs": [],
   "source": [
    "config = {\n",
    "    \"startyr\": None,\n",
    "    \"endyr\": None,\n",
    "    \"dora_id\": \"odiv-413\",\n",
    "    \"pathPP\": None,\n",
    "}"
   ]
  },
  {
   "cell_type": "code",
   "execution_count": 2,
   "id": "ea0700a8-868c-400a-b16b-5c43f1eb4540",
   "metadata": {},
   "outputs": [],
   "source": [
    "plot_obs = False"
   ]
  },
  {
   "cell_type": "code",
   "execution_count": 3,
   "id": "ea953593-f155-4671-aaed-0507f2dd02e2",
   "metadata": {
    "editable": true,
    "slideshow": {
     "slide_type": ""
    },
    "tags": []
   },
   "outputs": [],
   "source": [
    "# Make sure this cell is active so that the workflow and Dora can update\n",
    "# the config dictionary at runtime.\n",
    "\n",
    "from gfdlnb.tools.update_notebook_config import update_notebook_config\n",
    "config = update_notebook_config(config)"
   ]
  },
  {
   "cell_type": "code",
   "execution_count": 4,
   "id": "b94ff041-818d-48e0-8554-f85336a897e5",
   "metadata": {
    "editable": true,
    "slideshow": {
     "slide_type": ""
    },
    "tags": []
   },
   "outputs": [
    {
     "name": "stdout",
     "output_type": "stream",
     "text": [
      "{'startyr': None, 'endyr': None, 'dora_id': 'odiv-413', 'pathPP': None}\n"
     ]
    }
   ],
   "source": [
    "print(str(config))"
   ]
  },
  {
   "cell_type": "code",
   "execution_count": 5,
   "id": "1f1eff5c-b286-4466-9b70-633946530f9a",
   "metadata": {},
   "outputs": [],
   "source": [
    "import os\n",
    "import datetime"
   ]
  },
  {
   "cell_type": "markdown",
   "id": "dbe0facf-73ec-46ba-8799-a7e249d29887",
   "metadata": {},
   "source": [
    "### Import Python Modules"
   ]
  },
  {
   "cell_type": "code",
   "execution_count": 6,
   "id": "30d14101-a8c0-4807-863c-f93527cd77c7",
   "metadata": {},
   "outputs": [],
   "source": [
    "import glob\n",
    "import subprocess\n",
    "\n",
    "import doralite\n",
    "import matplotlib.pyplot as plt\n",
    "import momgrid as mg\n",
    "import momlevel as ml\n",
    "import numpy as np\n",
    "import xarray as xr"
   ]
  },
  {
   "cell_type": "code",
   "execution_count": 7,
   "id": "7c1c5791-9e8c-40fb-9d30-67010ef22484",
   "metadata": {},
   "outputs": [],
   "source": [
    "# momgrid will use a directory of pre-computed weights\n",
    "import momgrid\n",
    "os.environ[\"MOMGRID_WEIGHTS_DIR\"] = \"/nbhome/John.Krasting/grid_weights\""
   ]
  },
  {
   "cell_type": "markdown",
   "id": "5fed11df-be1d-4da5-9f1f-3a628b924a12",
   "metadata": {},
   "source": [
    "### Define Local Parameters"
   ]
  },
  {
   "cell_type": "code",
   "execution_count": 8,
   "id": "29b5ebe0-5c7d-48de-a221-0f49626b63e4",
   "metadata": {},
   "outputs": [],
   "source": [
    "# Define some local variables. These are taken from the doralite object\n",
    "# or they can be defined locally\n",
    "\n",
    "if config[\"dora_id\"] is not None:\n",
    "    experiment =  doralite.dora_metadata(config[\"dora_id\"])\n",
    "    pathPP = experiment[\"pathPP\"]\n",
    "    expName = experiment[\"expName\"]\n",
    "else:\n",
    "    raise ValueError(\"Experiment must be defined\")\n",
    "\n",
    "# Define start and end years\n",
    "start = config[\"startyr\"]\n",
    "start = int(start) if start is not None else 1\n",
    "\n",
    "end = config[\"endyr\"]\n",
    "end = int(end) if end is not None else 9999"
   ]
  },
  {
   "cell_type": "markdown",
   "id": "268b5f2b-3fb6-4e0c-96a8-8640fb143bd0",
   "metadata": {},
   "source": [
    "### Determine What Files to Load"
   ]
  },
  {
   "cell_type": "code",
   "execution_count": 9,
   "id": "6106d7c7-c987-4a84-be31-a4678c5d9ab8",
   "metadata": {},
   "outputs": [
    {
     "name": "stdout",
     "output_type": "stream",
     "text": [
      "/archive/John.Krasting/fre/FMS2024.02_OM5_20240724/CM4.5v01_om5b06_piC_noBLING/gfdl.ncrc5-intel23-prod-openmp/pp/ocean_annual_z/av/annual_5yr/ocean_annual_z.0001-0005.ann.nc\n",
      "/archive/John.Krasting/fre/FMS2024.02_OM5_20240724/CM4.5v01_om5b06_piC_noBLING/gfdl.ncrc5-intel23-prod-openmp/pp/ocean_annual_z/av/annual_5yr/ocean_annual_z.0006-0010.ann.nc\n",
      "/archive/John.Krasting/fre/FMS2024.02_OM5_20240724/CM4.5v01_om5b06_piC_noBLING/gfdl.ncrc5-intel23-prod-openmp/pp/ocean_annual_z/av/annual_5yr/ocean_annual_z.0011-0015.ann.nc\n",
      "/archive/John.Krasting/fre/FMS2024.02_OM5_20240724/CM4.5v01_om5b06_piC_noBLING/gfdl.ncrc5-intel23-prod-openmp/pp/ocean_annual_z/av/annual_5yr/ocean_annual_z.0016-0020.ann.nc\n",
      "/archive/John.Krasting/fre/FMS2024.02_OM5_20240724/CM4.5v01_om5b06_piC_noBLING/gfdl.ncrc5-intel23-prod-openmp/pp/ocean_annual_z/av/annual_5yr/ocean_annual_z.0021-0025.ann.nc\n",
      "/archive/John.Krasting/fre/FMS2024.02_OM5_20240724/CM4.5v01_om5b06_piC_noBLING/gfdl.ncrc5-intel23-prod-openmp/pp/ocean_annual_z/av/annual_5yr/ocean_annual_z.0026-0030.ann.nc\n",
      "/archive/John.Krasting/fre/FMS2024.02_OM5_20240724/CM4.5v01_om5b06_piC_noBLING/gfdl.ncrc5-intel23-prod-openmp/pp/ocean_annual_z/av/annual_5yr/ocean_annual_z.0031-0035.ann.nc\n",
      "/archive/John.Krasting/fre/FMS2024.02_OM5_20240724/CM4.5v01_om5b06_piC_noBLING/gfdl.ncrc5-intel23-prod-openmp/pp/ocean_annual_z/av/annual_5yr/ocean_annual_z.0036-0040.ann.nc\n",
      "/archive/John.Krasting/fre/FMS2024.02_OM5_20240724/CM4.5v01_om5b06_piC_noBLING/gfdl.ncrc5-intel23-prod-openmp/pp/ocean_annual_z/av/annual_5yr/ocean_annual_z.0041-0045.ann.nc\n",
      "/archive/John.Krasting/fre/FMS2024.02_OM5_20240724/CM4.5v01_om5b06_piC_noBLING/gfdl.ncrc5-intel23-prod-openmp/pp/ocean_annual_z/av/annual_5yr/ocean_annual_z.0046-0050.ann.nc\n",
      "/archive/John.Krasting/fre/FMS2024.02_OM5_20240724/CM4.5v01_om5b06_piC_noBLING/gfdl.ncrc5-intel23-prod-openmp/pp/ocean_annual_z/av/annual_5yr/ocean_annual_z.0051-0055.ann.nc\n",
      "/archive/John.Krasting/fre/FMS2024.02_OM5_20240724/CM4.5v01_om5b06_piC_noBLING/gfdl.ncrc5-intel23-prod-openmp/pp/ocean_annual_z/av/annual_5yr/ocean_annual_z.0056-0060.ann.nc\n"
     ]
    }
   ],
   "source": [
    "# Determine what files are needed (leave this up to the developer for flexibility)\n",
    "# This is an example of what someone might do:\n",
    "\n",
    "component = \"ocean_annual_z\"\n",
    "static = f\"{component}/{component}.static.nc\"\n",
    "varname = \"ann\"\n",
    "\n",
    "chunk = \"annual_5yr\"\n",
    "filelist = sorted(glob.glob(f\"{pathPP}{component}/av/{chunk}/{component}.*.{varname}.nc\", recursive=True))\n",
    "\n",
    "def is_in_range(file,start,end):\n",
    "    start = int(start)\n",
    "    end = int(end)\n",
    "    target = set(list(range(start,end+1)))\n",
    "    fname = os.path.basename(file)\n",
    "    times = fname.split(\".\")[1]\n",
    "    times = times.split(\"-\")\n",
    "    times = [int(x[0:4]) for x in times]\n",
    "    candidate = set(list(range(times[0],times[1]+1)))\n",
    "    return len(candidate.intersection(target)) > 0\n",
    "\n",
    "filelist = [x for x in filelist if is_in_range(x,start,end)]\n",
    "staticfile = f\"{pathPP}/{static}\"\n",
    "\n",
    "_ = [print(x) for x in filelist]"
   ]
  },
  {
   "cell_type": "markdown",
   "id": "d66bcf63-d2e0-44a1-8d38-19b68f6d5357",
   "metadata": {
    "editable": true,
    "slideshow": {
     "slide_type": ""
    },
    "tags": [
     "stop_here"
    ]
   },
   "source": [
    "### DMgetting Files"
   ]
  },
  {
   "cell_type": "markdown",
   "id": "e5575a21-4762-4c4e-b489-184af63df9e1",
   "metadata": {
    "editable": true,
    "slideshow": {
     "slide_type": ""
    },
    "tags": []
   },
   "source": [
    "Dora cannot issue calls to dmget"
   ]
  },
  {
   "cell_type": "code",
   "execution_count": 10,
   "id": "7096dc5b-559b-4221-a189-0836d77afd12",
   "metadata": {
    "editable": true,
    "slideshow": {
     "slide_type": ""
    },
    "tags": []
   },
   "outputs": [
    {
     "name": "stdout",
     "output_type": "stream",
     "text": [
      "Calling dmget on files ...\n"
     ]
    }
   ],
   "source": [
    "if not \"DORA_EXECUTE\" in os.environ.keys():\n",
    "    print(\"Calling dmget on files ...\")\n",
    "    cmd = [\"dmget\"]+filelist+[staticfile]\n",
    "    _ = subprocess.check_output(cmd)"
   ]
  },
  {
   "cell_type": "markdown",
   "id": "ced3c7f6-086e-482a-b4b9-6a36a2f6fd08",
   "metadata": {},
   "source": [
    "### Establish a Dictionary to Store Scalar Metrics"
   ]
  },
  {
   "cell_type": "code",
   "execution_count": 11,
   "id": "c885c9d6-b164-47b8-a473-f9f6851795db",
   "metadata": {},
   "outputs": [
    {
     "data": {
      "text/plain": [
       "{'metadata': {'expName': 'CM4.5v01_om5b06_piC_noBLING',\n",
       "  'created': '2024-10-17T15:11:36.298928'},\n",
       " 'results': {}}"
      ]
     },
     "execution_count": 11,
     "metadata": {},
     "output_type": "execute_result"
    }
   ],
   "source": [
    "stats_dict = {}\n",
    "stats_dict[\"metadata\"] = {\n",
    "    \"expName\": str(expName),\n",
    "    \"created\": datetime.datetime.now().isoformat(),\n",
    "}\n",
    "stats_dict[\"results\"] = {}\n",
    "stats_dict"
   ]
  },
  {
   "cell_type": "markdown",
   "id": "5846339f-ca0b-47a2-9b19-d84905c7847e",
   "metadata": {},
   "source": [
    "### Load model data and grid"
   ]
  },
  {
   "cell_type": "code",
   "execution_count": 12,
   "id": "70b1b444-20e4-4e63-b8a6-4d076d977eb2",
   "metadata": {},
   "outputs": [
    {
     "ename": "RuntimeError",
     "evalue": "Cannot associate grid to data. Different dims: ['xq', 'yq']",
     "output_type": "error",
     "traceback": [
      "\u001b[0;31m---------------------------------------------------------------------------\u001b[0m",
      "\u001b[0;31mRuntimeError\u001b[0m                              Traceback (most recent call last)",
      "Cell \u001b[0;32mIn[12], line 3\u001b[0m\n\u001b[1;32m      2\u001b[0m \u001b[38;5;28;01mtry\u001b[39;00m:\n\u001b[0;32m----> 3\u001b[0m     ds \u001b[38;5;241m=\u001b[39m \u001b[43mmomgrid\u001b[49m\u001b[38;5;241;43m.\u001b[39;49m\u001b[43mGridset\u001b[49m\u001b[43m(\u001b[49m\u001b[43mfilelist\u001b[49m\u001b[43m,\u001b[49m\u001b[43m \u001b[49m\u001b[43mforce_symmetric\u001b[49m\u001b[38;5;241;43m=\u001b[39;49m\u001b[38;5;28;43;01mTrue\u001b[39;49;00m\u001b[43m,\u001b[49m\u001b[43m \u001b[49m\u001b[43mreturn_corners\u001b[49m\u001b[38;5;241;43m=\u001b[39;49m\u001b[38;5;28;43;01mTrue\u001b[39;49;00m\u001b[43m)\u001b[49m\n\u001b[1;32m      4\u001b[0m \u001b[38;5;28;01mexcept\u001b[39;00m:\n",
      "File \u001b[0;32m/nbhome/ogrp/python/envs/py311_20240923/lib/python3.11/site-packages/momgrid/classes.py:606\u001b[0m, in \u001b[0;36mGridset.__init__\u001b[0;34m(self, dset, grid, force_symmetric, return_corners, ignore)\u001b[0m\n\u001b[1;32m    605\u001b[0m \u001b[38;5;66;03m# Associate the 2D geolat/geolon as coordinate variables\u001b[39;00m\n\u001b[0;32m--> 606\u001b[0m \u001b[38;5;28mself\u001b[39m\u001b[38;5;241m.\u001b[39mdata \u001b[38;5;241m=\u001b[39m \u001b[38;5;28;43mself\u001b[39;49m\u001b[38;5;241;43m.\u001b[39;49m\u001b[43mgrid\u001b[49m\u001b[38;5;241;43m.\u001b[39;49m\u001b[43massociate\u001b[49m\u001b[43m(\u001b[49m\u001b[43mdset\u001b[49m\u001b[43m)\u001b[49m\n\u001b[1;32m    608\u001b[0m \u001b[38;5;66;03m# Drop singleton dimensions and coordinates\u001b[39;00m\n",
      "File \u001b[0;32m/nbhome/ogrp/python/envs/py311_20240923/lib/python3.11/site-packages/momgrid/classes.py:455\u001b[0m, in \u001b[0;36mMOMgrid.associate\u001b[0;34m(self, data)\u001b[0m\n\u001b[1;32m    454\u001b[0m \u001b[38;5;28;01mdef\u001b[39;00m \u001b[38;5;21massociate\u001b[39m(\u001b[38;5;28mself\u001b[39m, data):\n\u001b[0;32m--> 455\u001b[0m     \u001b[38;5;28;01mreturn\u001b[39;00m \u001b[43massociate_grid_with_data\u001b[49m\u001b[43m(\u001b[49m\u001b[38;5;28;43mself\u001b[39;49m\u001b[38;5;241;43m.\u001b[39;49m\u001b[43mto_xarray\u001b[49m\u001b[43m(\u001b[49m\u001b[43m)\u001b[49m\u001b[43m,\u001b[49m\u001b[43m \u001b[49m\u001b[43mreset_nominal_coords\u001b[49m\u001b[43m(\u001b[49m\u001b[43mdata\u001b[49m\u001b[43m)\u001b[49m\u001b[43m)\u001b[49m\n",
      "File \u001b[0;32m/nbhome/ogrp/python/envs/py311_20240923/lib/python3.11/site-packages/momgrid/util.py:85\u001b[0m, in \u001b[0;36massociate_grid_with_data\u001b[0;34m(grid, data)\u001b[0m\n\u001b[1;32m     84\u001b[0m \u001b[38;5;28;01mif\u001b[39;00m \u001b[38;5;28mlen\u001b[39m(exceptions) \u001b[38;5;241m>\u001b[39m \u001b[38;5;241m0\u001b[39m:\n\u001b[0;32m---> 85\u001b[0m     \u001b[38;5;28;01mraise\u001b[39;00m \u001b[38;5;167;01mRuntimeError\u001b[39;00m(\n\u001b[1;32m     86\u001b[0m         \u001b[38;5;124mf\u001b[39m\u001b[38;5;124m\"\u001b[39m\u001b[38;5;124mCannot associate grid to data. Different dims: \u001b[39m\u001b[38;5;132;01m{\u001b[39;00mexceptions\u001b[38;5;132;01m}\u001b[39;00m\u001b[38;5;124m\"\u001b[39m\n\u001b[1;32m     87\u001b[0m     )\n\u001b[1;32m     89\u001b[0m processed \u001b[38;5;241m=\u001b[39m {}\n",
      "\u001b[0;31mRuntimeError\u001b[0m: Cannot associate grid to data. Different dims: ['xq', 'yq']",
      "\nDuring handling of the above exception, another exception occurred:\n",
      "\u001b[0;31mRuntimeError\u001b[0m                              Traceback (most recent call last)",
      "Cell \u001b[0;32mIn[12], line 5\u001b[0m\n\u001b[1;32m      3\u001b[0m     ds \u001b[38;5;241m=\u001b[39m momgrid\u001b[38;5;241m.\u001b[39mGridset(filelist, force_symmetric\u001b[38;5;241m=\u001b[39m\u001b[38;5;28;01mTrue\u001b[39;00m, return_corners\u001b[38;5;241m=\u001b[39m\u001b[38;5;28;01mTrue\u001b[39;00m)\n\u001b[1;32m      4\u001b[0m \u001b[38;5;28;01mexcept\u001b[39;00m:\n\u001b[0;32m----> 5\u001b[0m     ds \u001b[38;5;241m=\u001b[39m \u001b[43mmomgrid\u001b[49m\u001b[38;5;241;43m.\u001b[39;49m\u001b[43mGridset\u001b[49m\u001b[43m(\u001b[49m\u001b[43mfilelist\u001b[49m\u001b[43m,\u001b[49m\u001b[43m \u001b[49m\u001b[43mforce_symmetric\u001b[49m\u001b[38;5;241;43m=\u001b[39;49m\u001b[38;5;28;43;01mFalse\u001b[39;49;00m\u001b[43m,\u001b[49m\u001b[43m \u001b[49m\u001b[43mreturn_corners\u001b[49m\u001b[38;5;241;43m=\u001b[39;49m\u001b[38;5;28;43;01mTrue\u001b[39;49;00m\u001b[43m)\u001b[49m\n\u001b[1;32m      7\u001b[0m model_type \u001b[38;5;241m=\u001b[39m ds\u001b[38;5;241m.\u001b[39mmodel\n\u001b[1;32m      8\u001b[0m ds \u001b[38;5;241m=\u001b[39m ds\u001b[38;5;241m.\u001b[39mdata\u001b[38;5;241m.\u001b[39msel(time\u001b[38;5;241m=\u001b[39m\u001b[38;5;28mslice\u001b[39m(\u001b[38;5;124mf\u001b[39m\u001b[38;5;124m\"\u001b[39m\u001b[38;5;132;01m{\u001b[39;00m\u001b[38;5;28mstr\u001b[39m(start)\u001b[38;5;241m.\u001b[39mzfill(\u001b[38;5;241m4\u001b[39m)\u001b[38;5;132;01m}\u001b[39;00m\u001b[38;5;124m-01-01\u001b[39m\u001b[38;5;124m\"\u001b[39m,\u001b[38;5;124mf\u001b[39m\u001b[38;5;124m\"\u001b[39m\u001b[38;5;132;01m{\u001b[39;00m\u001b[38;5;28mstr\u001b[39m(end)\u001b[38;5;241m.\u001b[39mzfill(\u001b[38;5;241m4\u001b[39m)\u001b[38;5;132;01m}\u001b[39;00m\u001b[38;5;124m-12-31\u001b[39m\u001b[38;5;124m\"\u001b[39m))\n",
      "File \u001b[0;32m/nbhome/ogrp/python/envs/py311_20240923/lib/python3.11/site-packages/momgrid/classes.py:606\u001b[0m, in \u001b[0;36mGridset.__init__\u001b[0;34m(self, dset, grid, force_symmetric, return_corners, ignore)\u001b[0m\n\u001b[1;32m    603\u001b[0m     \u001b[38;5;28;01mraise\u001b[39;00m \u001b[38;5;167;01mValueError\u001b[39;00m(\u001b[38;5;124m\"\u001b[39m\u001b[38;5;124mUnable to infer model from input data.\u001b[39m\u001b[38;5;124m\"\u001b[39m)\n\u001b[1;32m    605\u001b[0m \u001b[38;5;66;03m# Associate the 2D geolat/geolon as coordinate variables\u001b[39;00m\n\u001b[0;32m--> 606\u001b[0m \u001b[38;5;28mself\u001b[39m\u001b[38;5;241m.\u001b[39mdata \u001b[38;5;241m=\u001b[39m \u001b[38;5;28;43mself\u001b[39;49m\u001b[38;5;241;43m.\u001b[39;49m\u001b[43mgrid\u001b[49m\u001b[38;5;241;43m.\u001b[39;49m\u001b[43massociate\u001b[49m\u001b[43m(\u001b[49m\u001b[43mdset\u001b[49m\u001b[43m)\u001b[49m\n\u001b[1;32m    608\u001b[0m \u001b[38;5;66;03m# Drop singleton dimensions and coordinates\u001b[39;00m\n\u001b[1;32m    609\u001b[0m \u001b[38;5;28mself\u001b[39m\u001b[38;5;241m.\u001b[39mdata \u001b[38;5;241m=\u001b[39m \u001b[38;5;28mself\u001b[39m\u001b[38;5;241m.\u001b[39mdata\u001b[38;5;241m.\u001b[39msqueeze()\n",
      "File \u001b[0;32m/nbhome/ogrp/python/envs/py311_20240923/lib/python3.11/site-packages/momgrid/classes.py:455\u001b[0m, in \u001b[0;36mMOMgrid.associate\u001b[0;34m(self, data)\u001b[0m\n\u001b[1;32m    454\u001b[0m \u001b[38;5;28;01mdef\u001b[39;00m \u001b[38;5;21massociate\u001b[39m(\u001b[38;5;28mself\u001b[39m, data):\n\u001b[0;32m--> 455\u001b[0m     \u001b[38;5;28;01mreturn\u001b[39;00m \u001b[43massociate_grid_with_data\u001b[49m\u001b[43m(\u001b[49m\u001b[38;5;28;43mself\u001b[39;49m\u001b[38;5;241;43m.\u001b[39;49m\u001b[43mto_xarray\u001b[49m\u001b[43m(\u001b[49m\u001b[43m)\u001b[49m\u001b[43m,\u001b[49m\u001b[43m \u001b[49m\u001b[43mreset_nominal_coords\u001b[49m\u001b[43m(\u001b[49m\u001b[43mdata\u001b[49m\u001b[43m)\u001b[49m\u001b[43m)\u001b[49m\n",
      "File \u001b[0;32m/nbhome/ogrp/python/envs/py311_20240923/lib/python3.11/site-packages/momgrid/util.py:85\u001b[0m, in \u001b[0;36massociate_grid_with_data\u001b[0;34m(grid, data)\u001b[0m\n\u001b[1;32m     82\u001b[0m             exceptions\u001b[38;5;241m.\u001b[39mappend(dim)\n\u001b[1;32m     84\u001b[0m \u001b[38;5;28;01mif\u001b[39;00m \u001b[38;5;28mlen\u001b[39m(exceptions) \u001b[38;5;241m>\u001b[39m \u001b[38;5;241m0\u001b[39m:\n\u001b[0;32m---> 85\u001b[0m     \u001b[38;5;28;01mraise\u001b[39;00m \u001b[38;5;167;01mRuntimeError\u001b[39;00m(\n\u001b[1;32m     86\u001b[0m         \u001b[38;5;124mf\u001b[39m\u001b[38;5;124m\"\u001b[39m\u001b[38;5;124mCannot associate grid to data. Different dims: \u001b[39m\u001b[38;5;132;01m{\u001b[39;00mexceptions\u001b[38;5;132;01m}\u001b[39;00m\u001b[38;5;124m\"\u001b[39m\n\u001b[1;32m     87\u001b[0m     )\n\u001b[1;32m     89\u001b[0m processed \u001b[38;5;241m=\u001b[39m {}\n\u001b[1;32m     91\u001b[0m \u001b[38;5;28;01mfor\u001b[39;00m var \u001b[38;5;129;01min\u001b[39;00m ds\u001b[38;5;241m.\u001b[39mkeys():\n",
      "\u001b[0;31mRuntimeError\u001b[0m: Cannot associate grid to data. Different dims: ['xq', 'yq']"
     ]
    }
   ],
   "source": [
    "# Try first to load a symmetric grid. Older CM4/OM4 runs may need non-symmetric\n",
    "try:\n",
    "    ds = momgrid.Gridset(filelist, force_symmetric=True, return_corners=True)\n",
    "except:\n",
    "    ds = momgrid.Gridset(filelist, force_symmetric=False, return_corners=True)\n",
    "\n",
    "model_type = ds.model\n",
    "ds = ds.data.sel(time=slice(f\"{str(start).zfill(4)}-01-01\",f\"{str(end).zfill(4)}-12-31\"))\n",
    "\n",
    "ds[\"dz\"] = xr.DataArray(ds.z_i.diff(\"z_i\").values, dims=(\"z_l\",))"
   ]
  },
  {
   "cell_type": "code",
   "execution_count": 14,
   "id": "676c8308-6c0b-4448-9335-be668cb99e82",
   "metadata": {},
   "outputs": [
    {
     "data": {
      "text/html": [
       "<div><svg style=\"position: absolute; width: 0; height: 0; overflow: hidden\">\n",
       "<defs>\n",
       "<symbol id=\"icon-database\" viewBox=\"0 0 32 32\">\n",
       "<path d=\"M16 0c-8.837 0-16 2.239-16 5v4c0 2.761 7.163 5 16 5s16-2.239 16-5v-4c0-2.761-7.163-5-16-5z\"></path>\n",
       "<path d=\"M16 17c-8.837 0-16-2.239-16-5v6c0 2.761 7.163 5 16 5s16-2.239 16-5v-6c0 2.761-7.163 5-16 5z\"></path>\n",
       "<path d=\"M16 26c-8.837 0-16-2.239-16-5v6c0 2.761 7.163 5 16 5s16-2.239 16-5v-6c0 2.761-7.163 5-16 5z\"></path>\n",
       "</symbol>\n",
       "<symbol id=\"icon-file-text2\" viewBox=\"0 0 32 32\">\n",
       "<path d=\"M28.681 7.159c-0.694-0.947-1.662-2.053-2.724-3.116s-2.169-2.030-3.116-2.724c-1.612-1.182-2.393-1.319-2.841-1.319h-15.5c-1.378 0-2.5 1.121-2.5 2.5v27c0 1.378 1.122 2.5 2.5 2.5h23c1.378 0 2.5-1.122 2.5-2.5v-19.5c0-0.448-0.137-1.23-1.319-2.841zM24.543 5.457c0.959 0.959 1.712 1.825 2.268 2.543h-4.811v-4.811c0.718 0.556 1.584 1.309 2.543 2.268zM28 29.5c0 0.271-0.229 0.5-0.5 0.5h-23c-0.271 0-0.5-0.229-0.5-0.5v-27c0-0.271 0.229-0.5 0.5-0.5 0 0 15.499-0 15.5 0v7c0 0.552 0.448 1 1 1h7v19.5z\"></path>\n",
       "<path d=\"M23 26h-14c-0.552 0-1-0.448-1-1s0.448-1 1-1h14c0.552 0 1 0.448 1 1s-0.448 1-1 1z\"></path>\n",
       "<path d=\"M23 22h-14c-0.552 0-1-0.448-1-1s0.448-1 1-1h14c0.552 0 1 0.448 1 1s-0.448 1-1 1z\"></path>\n",
       "<path d=\"M23 18h-14c-0.552 0-1-0.448-1-1s0.448-1 1-1h14c0.552 0 1 0.448 1 1s-0.448 1-1 1z\"></path>\n",
       "</symbol>\n",
       "</defs>\n",
       "</svg>\n",
       "<style>/* CSS stylesheet for displaying xarray objects in jupyterlab.\n",
       " *\n",
       " */\n",
       "\n",
       ":root {\n",
       "  --xr-font-color0: var(--jp-content-font-color0, rgba(0, 0, 0, 1));\n",
       "  --xr-font-color2: var(--jp-content-font-color2, rgba(0, 0, 0, 0.54));\n",
       "  --xr-font-color3: var(--jp-content-font-color3, rgba(0, 0, 0, 0.38));\n",
       "  --xr-border-color: var(--jp-border-color2, #e0e0e0);\n",
       "  --xr-disabled-color: var(--jp-layout-color3, #bdbdbd);\n",
       "  --xr-background-color: var(--jp-layout-color0, white);\n",
       "  --xr-background-color-row-even: var(--jp-layout-color1, white);\n",
       "  --xr-background-color-row-odd: var(--jp-layout-color2, #eeeeee);\n",
       "}\n",
       "\n",
       "html[theme=dark],\n",
       "html[data-theme=dark],\n",
       "body[data-theme=dark],\n",
       "body.vscode-dark {\n",
       "  --xr-font-color0: rgba(255, 255, 255, 1);\n",
       "  --xr-font-color2: rgba(255, 255, 255, 0.54);\n",
       "  --xr-font-color3: rgba(255, 255, 255, 0.38);\n",
       "  --xr-border-color: #1F1F1F;\n",
       "  --xr-disabled-color: #515151;\n",
       "  --xr-background-color: #111111;\n",
       "  --xr-background-color-row-even: #111111;\n",
       "  --xr-background-color-row-odd: #313131;\n",
       "}\n",
       "\n",
       ".xr-wrap {\n",
       "  display: block !important;\n",
       "  min-width: 300px;\n",
       "  max-width: 700px;\n",
       "}\n",
       "\n",
       ".xr-text-repr-fallback {\n",
       "  /* fallback to plain text repr when CSS is not injected (untrusted notebook) */\n",
       "  display: none;\n",
       "}\n",
       "\n",
       ".xr-header {\n",
       "  padding-top: 6px;\n",
       "  padding-bottom: 6px;\n",
       "  margin-bottom: 4px;\n",
       "  border-bottom: solid 1px var(--xr-border-color);\n",
       "}\n",
       "\n",
       ".xr-header > div,\n",
       ".xr-header > ul {\n",
       "  display: inline;\n",
       "  margin-top: 0;\n",
       "  margin-bottom: 0;\n",
       "}\n",
       "\n",
       ".xr-obj-type,\n",
       ".xr-array-name {\n",
       "  margin-left: 2px;\n",
       "  margin-right: 10px;\n",
       "}\n",
       "\n",
       ".xr-obj-type {\n",
       "  color: var(--xr-font-color2);\n",
       "}\n",
       "\n",
       ".xr-sections {\n",
       "  padding-left: 0 !important;\n",
       "  display: grid;\n",
       "  grid-template-columns: 150px auto auto 1fr 0 20px 0 20px;\n",
       "}\n",
       "\n",
       ".xr-section-item {\n",
       "  display: contents;\n",
       "}\n",
       "\n",
       ".xr-section-item input {\n",
       "  display: inline-block;\n",
       "  opacity: 0;\n",
       "}\n",
       "\n",
       ".xr-section-item input + label {\n",
       "  color: var(--xr-disabled-color);\n",
       "}\n",
       "\n",
       ".xr-section-item input:enabled + label {\n",
       "  cursor: pointer;\n",
       "  color: var(--xr-font-color2);\n",
       "}\n",
       "\n",
       ".xr-section-item input:focus + label {\n",
       "  border: 2px solid var(--xr-font-color0);\n",
       "}\n",
       "\n",
       ".xr-section-item input:enabled + label:hover {\n",
       "  color: var(--xr-font-color0);\n",
       "}\n",
       "\n",
       ".xr-section-summary {\n",
       "  grid-column: 1;\n",
       "  color: var(--xr-font-color2);\n",
       "  font-weight: 500;\n",
       "}\n",
       "\n",
       ".xr-section-summary > span {\n",
       "  display: inline-block;\n",
       "  padding-left: 0.5em;\n",
       "}\n",
       "\n",
       ".xr-section-summary-in:disabled + label {\n",
       "  color: var(--xr-font-color2);\n",
       "}\n",
       "\n",
       ".xr-section-summary-in + label:before {\n",
       "  display: inline-block;\n",
       "  content: '►';\n",
       "  font-size: 11px;\n",
       "  width: 15px;\n",
       "  text-align: center;\n",
       "}\n",
       "\n",
       ".xr-section-summary-in:disabled + label:before {\n",
       "  color: var(--xr-disabled-color);\n",
       "}\n",
       "\n",
       ".xr-section-summary-in:checked + label:before {\n",
       "  content: '▼';\n",
       "}\n",
       "\n",
       ".xr-section-summary-in:checked + label > span {\n",
       "  display: none;\n",
       "}\n",
       "\n",
       ".xr-section-summary,\n",
       ".xr-section-inline-details {\n",
       "  padding-top: 4px;\n",
       "  padding-bottom: 4px;\n",
       "}\n",
       "\n",
       ".xr-section-inline-details {\n",
       "  grid-column: 2 / -1;\n",
       "}\n",
       "\n",
       ".xr-section-details {\n",
       "  display: none;\n",
       "  grid-column: 1 / -1;\n",
       "  margin-bottom: 5px;\n",
       "}\n",
       "\n",
       ".xr-section-summary-in:checked ~ .xr-section-details {\n",
       "  display: contents;\n",
       "}\n",
       "\n",
       ".xr-array-wrap {\n",
       "  grid-column: 1 / -1;\n",
       "  display: grid;\n",
       "  grid-template-columns: 20px auto;\n",
       "}\n",
       "\n",
       ".xr-array-wrap > label {\n",
       "  grid-column: 1;\n",
       "  vertical-align: top;\n",
       "}\n",
       "\n",
       ".xr-preview {\n",
       "  color: var(--xr-font-color3);\n",
       "}\n",
       "\n",
       ".xr-array-preview,\n",
       ".xr-array-data {\n",
       "  padding: 0 5px !important;\n",
       "  grid-column: 2;\n",
       "}\n",
       "\n",
       ".xr-array-data,\n",
       ".xr-array-in:checked ~ .xr-array-preview {\n",
       "  display: none;\n",
       "}\n",
       "\n",
       ".xr-array-in:checked ~ .xr-array-data,\n",
       ".xr-array-preview {\n",
       "  display: inline-block;\n",
       "}\n",
       "\n",
       ".xr-dim-list {\n",
       "  display: inline-block !important;\n",
       "  list-style: none;\n",
       "  padding: 0 !important;\n",
       "  margin: 0;\n",
       "}\n",
       "\n",
       ".xr-dim-list li {\n",
       "  display: inline-block;\n",
       "  padding: 0;\n",
       "  margin: 0;\n",
       "}\n",
       "\n",
       ".xr-dim-list:before {\n",
       "  content: '(';\n",
       "}\n",
       "\n",
       ".xr-dim-list:after {\n",
       "  content: ')';\n",
       "}\n",
       "\n",
       ".xr-dim-list li:not(:last-child):after {\n",
       "  content: ',';\n",
       "  padding-right: 5px;\n",
       "}\n",
       "\n",
       ".xr-has-index {\n",
       "  font-weight: bold;\n",
       "}\n",
       "\n",
       ".xr-var-list,\n",
       ".xr-var-item {\n",
       "  display: contents;\n",
       "}\n",
       "\n",
       ".xr-var-item > div,\n",
       ".xr-var-item label,\n",
       ".xr-var-item > .xr-var-name span {\n",
       "  background-color: var(--xr-background-color-row-even);\n",
       "  margin-bottom: 0;\n",
       "}\n",
       "\n",
       ".xr-var-item > .xr-var-name:hover span {\n",
       "  padding-right: 5px;\n",
       "}\n",
       "\n",
       ".xr-var-list > li:nth-child(odd) > div,\n",
       ".xr-var-list > li:nth-child(odd) > label,\n",
       ".xr-var-list > li:nth-child(odd) > .xr-var-name span {\n",
       "  background-color: var(--xr-background-color-row-odd);\n",
       "}\n",
       "\n",
       ".xr-var-name {\n",
       "  grid-column: 1;\n",
       "}\n",
       "\n",
       ".xr-var-dims {\n",
       "  grid-column: 2;\n",
       "}\n",
       "\n",
       ".xr-var-dtype {\n",
       "  grid-column: 3;\n",
       "  text-align: right;\n",
       "  color: var(--xr-font-color2);\n",
       "}\n",
       "\n",
       ".xr-var-preview {\n",
       "  grid-column: 4;\n",
       "}\n",
       "\n",
       ".xr-index-preview {\n",
       "  grid-column: 2 / 5;\n",
       "  color: var(--xr-font-color2);\n",
       "}\n",
       "\n",
       ".xr-var-name,\n",
       ".xr-var-dims,\n",
       ".xr-var-dtype,\n",
       ".xr-preview,\n",
       ".xr-attrs dt {\n",
       "  white-space: nowrap;\n",
       "  overflow: hidden;\n",
       "  text-overflow: ellipsis;\n",
       "  padding-right: 10px;\n",
       "}\n",
       "\n",
       ".xr-var-name:hover,\n",
       ".xr-var-dims:hover,\n",
       ".xr-var-dtype:hover,\n",
       ".xr-attrs dt:hover {\n",
       "  overflow: visible;\n",
       "  width: auto;\n",
       "  z-index: 1;\n",
       "}\n",
       "\n",
       ".xr-var-attrs,\n",
       ".xr-var-data,\n",
       ".xr-index-data {\n",
       "  display: none;\n",
       "  background-color: var(--xr-background-color) !important;\n",
       "  padding-bottom: 5px !important;\n",
       "}\n",
       "\n",
       ".xr-var-attrs-in:checked ~ .xr-var-attrs,\n",
       ".xr-var-data-in:checked ~ .xr-var-data,\n",
       ".xr-index-data-in:checked ~ .xr-index-data {\n",
       "  display: block;\n",
       "}\n",
       "\n",
       ".xr-var-data > table {\n",
       "  float: right;\n",
       "}\n",
       "\n",
       ".xr-var-name span,\n",
       ".xr-var-data,\n",
       ".xr-index-name div,\n",
       ".xr-index-data,\n",
       ".xr-attrs {\n",
       "  padding-left: 25px !important;\n",
       "}\n",
       "\n",
       ".xr-attrs,\n",
       ".xr-var-attrs,\n",
       ".xr-var-data,\n",
       ".xr-index-data {\n",
       "  grid-column: 1 / -1;\n",
       "}\n",
       "\n",
       "dl.xr-attrs {\n",
       "  padding: 0;\n",
       "  margin: 0;\n",
       "  display: grid;\n",
       "  grid-template-columns: 125px auto;\n",
       "}\n",
       "\n",
       ".xr-attrs dt,\n",
       ".xr-attrs dd {\n",
       "  padding: 0;\n",
       "  margin: 0;\n",
       "  float: left;\n",
       "  padding-right: 10px;\n",
       "  width: auto;\n",
       "}\n",
       "\n",
       ".xr-attrs dt {\n",
       "  font-weight: normal;\n",
       "  grid-column: 1;\n",
       "}\n",
       "\n",
       ".xr-attrs dt:hover span {\n",
       "  display: inline-block;\n",
       "  background: var(--xr-background-color);\n",
       "  padding-right: 10px;\n",
       "}\n",
       "\n",
       ".xr-attrs dd {\n",
       "  grid-column: 2;\n",
       "  white-space: pre-wrap;\n",
       "  word-break: break-all;\n",
       "}\n",
       "\n",
       ".xr-icon-database,\n",
       ".xr-icon-file-text2,\n",
       ".xr-no-icon {\n",
       "  display: inline-block;\n",
       "  vertical-align: middle;\n",
       "  width: 1em;\n",
       "  height: 1.5em !important;\n",
       "  stroke-width: 0;\n",
       "  stroke: currentColor;\n",
       "  fill: currentColor;\n",
       "}\n",
       "</style><pre class='xr-text-repr-fallback'>&lt;xarray.Dataset&gt; Size: 17MB\n",
       "Dimensions:    (longitude: 360, latitude: 180, depth: 33)\n",
       "Coordinates:\n",
       "  * longitude  (longitude) float64 3kB -179.5 -178.5 -177.5 ... 178.5 179.5\n",
       "  * latitude   (latitude) float64 1kB -89.5 -88.5 -87.5 -86.5 ... 87.5 88.5 89.5\n",
       "  * depth      (depth) float64 264B 0.0 10.0 20.0 30.0 ... 4.5e+03 5e+03 5.5e+03\n",
       "Data variables:\n",
       "    pCFC12     (depth, longitude, latitude) float32 9MB ...\n",
       "    pCFC12Err  (depth, longitude, latitude) float32 9MB ...\n",
       "Attributes:\n",
       "    title:          Gridded pCFC-12 Data\n",
       "    authors:        Bob Key\n",
       "    creation_date:  Jul 28 10:11, 2003</pre><div class='xr-wrap' style='display:none'><div class='xr-header'><div class='xr-obj-type'>xarray.Dataset</div></div><ul class='xr-sections'><li class='xr-section-item'><input id='section-f7d27fe0-d37e-4ef1-958e-e4398c73c211' class='xr-section-summary-in' type='checkbox' disabled ><label for='section-f7d27fe0-d37e-4ef1-958e-e4398c73c211' class='xr-section-summary'  title='Expand/collapse section'>Dimensions:</label><div class='xr-section-inline-details'><ul class='xr-dim-list'><li><span class='xr-has-index'>longitude</span>: 360</li><li><span class='xr-has-index'>latitude</span>: 180</li><li><span class='xr-has-index'>depth</span>: 33</li></ul></div><div class='xr-section-details'></div></li><li class='xr-section-item'><input id='section-b706b09b-d167-4d7f-bc49-a18b0b8c0b88' class='xr-section-summary-in' type='checkbox'  checked><label for='section-b706b09b-d167-4d7f-bc49-a18b0b8c0b88' class='xr-section-summary' >Coordinates: <span>(3)</span></label><div class='xr-section-inline-details'></div><div class='xr-section-details'><ul class='xr-var-list'><li class='xr-var-item'><div class='xr-var-name'><span class='xr-has-index'>longitude</span></div><div class='xr-var-dims'>(longitude)</div><div class='xr-var-dtype'>float64</div><div class='xr-var-preview xr-preview'>-179.5 -178.5 ... 178.5 179.5</div><input id='attrs-2b1d8fcc-16b7-4f8b-8a38-8fca609fc3b6' class='xr-var-attrs-in' type='checkbox' ><label for='attrs-2b1d8fcc-16b7-4f8b-8a38-8fca609fc3b6' title='Show/Hide attributes'><svg class='icon xr-icon-file-text2'><use xlink:href='#icon-file-text2'></use></svg></label><input id='data-a6ff29df-f050-490c-92b6-4925854056c5' class='xr-var-data-in' type='checkbox'><label for='data-a6ff29df-f050-490c-92b6-4925854056c5' title='Show/Hide data repr'><svg class='icon xr-icon-database'><use xlink:href='#icon-database'></use></svg></label><div class='xr-var-attrs'><dl class='xr-attrs'><dt><span>long_name :</span></dt><dd>Longitude</dd><dt><span>units :</span></dt><dd>degrees_east</dd></dl></div><div class='xr-var-data'><pre>array([-179.5, -178.5, -177.5, ...,  177.5,  178.5,  179.5])</pre></div></li><li class='xr-var-item'><div class='xr-var-name'><span class='xr-has-index'>latitude</span></div><div class='xr-var-dims'>(latitude)</div><div class='xr-var-dtype'>float64</div><div class='xr-var-preview xr-preview'>-89.5 -88.5 -87.5 ... 88.5 89.5</div><input id='attrs-b609ea2f-2a81-4085-b8a3-01f56e2671e3' class='xr-var-attrs-in' type='checkbox' ><label for='attrs-b609ea2f-2a81-4085-b8a3-01f56e2671e3' title='Show/Hide attributes'><svg class='icon xr-icon-file-text2'><use xlink:href='#icon-file-text2'></use></svg></label><input id='data-60ab7682-4bd0-4398-9bd4-1b8b0322d202' class='xr-var-data-in' type='checkbox'><label for='data-60ab7682-4bd0-4398-9bd4-1b8b0322d202' title='Show/Hide data repr'><svg class='icon xr-icon-database'><use xlink:href='#icon-database'></use></svg></label><div class='xr-var-attrs'><dl class='xr-attrs'><dt><span>long_name :</span></dt><dd>Latitude</dd><dt><span>units :</span></dt><dd>degrees_north</dd></dl></div><div class='xr-var-data'><pre>array([-89.5, -88.5, -87.5, -86.5, -85.5, -84.5, -83.5, -82.5, -81.5, -80.5,\n",
       "       -79.5, -78.5, -77.5, -76.5, -75.5, -74.5, -73.5, -72.5, -71.5, -70.5,\n",
       "       -69.5, -68.5, -67.5, -66.5, -65.5, -64.5, -63.5, -62.5, -61.5, -60.5,\n",
       "       -59.5, -58.5, -57.5, -56.5, -55.5, -54.5, -53.5, -52.5, -51.5, -50.5,\n",
       "       -49.5, -48.5, -47.5, -46.5, -45.5, -44.5, -43.5, -42.5, -41.5, -40.5,\n",
       "       -39.5, -38.5, -37.5, -36.5, -35.5, -34.5, -33.5, -32.5, -31.5, -30.5,\n",
       "       -29.5, -28.5, -27.5, -26.5, -25.5, -24.5, -23.5, -22.5, -21.5, -20.5,\n",
       "       -19.5, -18.5, -17.5, -16.5, -15.5, -14.5, -13.5, -12.5, -11.5, -10.5,\n",
       "        -9.5,  -8.5,  -7.5,  -6.5,  -5.5,  -4.5,  -3.5,  -2.5,  -1.5,  -0.5,\n",
       "         0.5,   1.5,   2.5,   3.5,   4.5,   5.5,   6.5,   7.5,   8.5,   9.5,\n",
       "        10.5,  11.5,  12.5,  13.5,  14.5,  15.5,  16.5,  17.5,  18.5,  19.5,\n",
       "        20.5,  21.5,  22.5,  23.5,  24.5,  25.5,  26.5,  27.5,  28.5,  29.5,\n",
       "        30.5,  31.5,  32.5,  33.5,  34.5,  35.5,  36.5,  37.5,  38.5,  39.5,\n",
       "        40.5,  41.5,  42.5,  43.5,  44.5,  45.5,  46.5,  47.5,  48.5,  49.5,\n",
       "        50.5,  51.5,  52.5,  53.5,  54.5,  55.5,  56.5,  57.5,  58.5,  59.5,\n",
       "        60.5,  61.5,  62.5,  63.5,  64.5,  65.5,  66.5,  67.5,  68.5,  69.5,\n",
       "        70.5,  71.5,  72.5,  73.5,  74.5,  75.5,  76.5,  77.5,  78.5,  79.5,\n",
       "        80.5,  81.5,  82.5,  83.5,  84.5,  85.5,  86.5,  87.5,  88.5,  89.5])</pre></div></li><li class='xr-var-item'><div class='xr-var-name'><span class='xr-has-index'>depth</span></div><div class='xr-var-dims'>(depth)</div><div class='xr-var-dtype'>float64</div><div class='xr-var-preview xr-preview'>0.0 10.0 20.0 ... 5e+03 5.5e+03</div><input id='attrs-8de81f7b-aa5a-49ca-9a02-60d4fef23cc3' class='xr-var-attrs-in' type='checkbox' ><label for='attrs-8de81f7b-aa5a-49ca-9a02-60d4fef23cc3' title='Show/Hide attributes'><svg class='icon xr-icon-file-text2'><use xlink:href='#icon-file-text2'></use></svg></label><input id='data-3f02e41f-bb9f-4fc9-b233-38e557220694' class='xr-var-data-in' type='checkbox'><label for='data-3f02e41f-bb9f-4fc9-b233-38e557220694' title='Show/Hide data repr'><svg class='icon xr-icon-database'><use xlink:href='#icon-database'></use></svg></label><div class='xr-var-attrs'><dl class='xr-attrs'><dt><span>long_name :</span></dt><dd>Depth</dd><dt><span>units :</span></dt><dd>meters</dd><dt><span>positive :</span></dt><dd>down</dd></dl></div><div class='xr-var-data'><pre>array([   0.,   10.,   20.,   30.,   50.,   75.,  100.,  125.,  150.,  200.,\n",
       "        250.,  300.,  400.,  500.,  600.,  700.,  800.,  900., 1000., 1100.,\n",
       "       1200., 1300., 1400., 1500., 1750., 2000., 2500., 3000., 3500., 4000.,\n",
       "       4500., 5000., 5500.])</pre></div></li></ul></div></li><li class='xr-section-item'><input id='section-23c81c2f-964c-4d48-a409-448a58e81584' class='xr-section-summary-in' type='checkbox'  checked><label for='section-23c81c2f-964c-4d48-a409-448a58e81584' class='xr-section-summary' >Data variables: <span>(2)</span></label><div class='xr-section-inline-details'></div><div class='xr-section-details'><ul class='xr-var-list'><li class='xr-var-item'><div class='xr-var-name'><span>pCFC12</span></div><div class='xr-var-dims'>(depth, longitude, latitude)</div><div class='xr-var-dtype'>float32</div><div class='xr-var-preview xr-preview'>...</div><input id='attrs-7183a716-540b-46e4-8ff8-c5897535b0b8' class='xr-var-attrs-in' type='checkbox' ><label for='attrs-7183a716-540b-46e4-8ff8-c5897535b0b8' title='Show/Hide attributes'><svg class='icon xr-icon-file-text2'><use xlink:href='#icon-file-text2'></use></svg></label><input id='data-e84ad2bb-f76c-4419-be81-a375adabca4c' class='xr-var-data-in' type='checkbox'><label for='data-e84ad2bb-f76c-4419-be81-a375adabca4c' title='Show/Hide data repr'><svg class='icon xr-icon-database'><use xlink:href='#icon-database'></use></svg></label><div class='xr-var-attrs'><dl class='xr-attrs'><dt><span>long_name :</span></dt><dd>pCFC-12</dd><dt><span>units :</span></dt><dd>patm</dd></dl></div><div class='xr-var-data'><pre>[2138400 values with dtype=float32]</pre></div></li><li class='xr-var-item'><div class='xr-var-name'><span>pCFC12Err</span></div><div class='xr-var-dims'>(depth, longitude, latitude)</div><div class='xr-var-dtype'>float32</div><div class='xr-var-preview xr-preview'>...</div><input id='attrs-9dfcd0ce-f214-4d6e-ba44-0ed457aab9a5' class='xr-var-attrs-in' type='checkbox' ><label for='attrs-9dfcd0ce-f214-4d6e-ba44-0ed457aab9a5' title='Show/Hide attributes'><svg class='icon xr-icon-file-text2'><use xlink:href='#icon-file-text2'></use></svg></label><input id='data-f55ad462-6f1a-4501-8e79-bd78996d0f6c' class='xr-var-data-in' type='checkbox'><label for='data-f55ad462-6f1a-4501-8e79-bd78996d0f6c' title='Show/Hide data repr'><svg class='icon xr-icon-database'><use xlink:href='#icon-database'></use></svg></label><div class='xr-var-attrs'><dl class='xr-attrs'><dt><span>long_name :</span></dt><dd>pCFC-12 Error</dd><dt><span>units :</span></dt><dd>patm</dd></dl></div><div class='xr-var-data'><pre>[2138400 values with dtype=float32]</pre></div></li></ul></div></li><li class='xr-section-item'><input id='section-7b6ba19e-d9a7-41e4-a81b-6777b75867c5' class='xr-section-summary-in' type='checkbox'  ><label for='section-7b6ba19e-d9a7-41e4-a81b-6777b75867c5' class='xr-section-summary' >Indexes: <span>(3)</span></label><div class='xr-section-inline-details'></div><div class='xr-section-details'><ul class='xr-var-list'><li class='xr-var-item'><div class='xr-index-name'><div>longitude</div></div><div class='xr-index-preview'>PandasIndex</div><div></div><input id='index-873fa94a-da36-4f49-85e5-71a204c90ea3' class='xr-index-data-in' type='checkbox'/><label for='index-873fa94a-da36-4f49-85e5-71a204c90ea3' title='Show/Hide index repr'><svg class='icon xr-icon-database'><use xlink:href='#icon-database'></use></svg></label><div class='xr-index-data'><pre>PandasIndex(Index([-179.5, -178.5, -177.5, -176.5, -175.5, -174.5, -173.5, -172.5, -171.5,\n",
       "       -170.5,\n",
       "       ...\n",
       "        170.5,  171.5,  172.5,  173.5,  174.5,  175.5,  176.5,  177.5,  178.5,\n",
       "        179.5],\n",
       "      dtype=&#x27;float64&#x27;, name=&#x27;longitude&#x27;, length=360))</pre></div></li><li class='xr-var-item'><div class='xr-index-name'><div>latitude</div></div><div class='xr-index-preview'>PandasIndex</div><div></div><input id='index-44c53de3-22f6-44ac-beee-25c22dd7b5de' class='xr-index-data-in' type='checkbox'/><label for='index-44c53de3-22f6-44ac-beee-25c22dd7b5de' title='Show/Hide index repr'><svg class='icon xr-icon-database'><use xlink:href='#icon-database'></use></svg></label><div class='xr-index-data'><pre>PandasIndex(Index([-89.5, -88.5, -87.5, -86.5, -85.5, -84.5, -83.5, -82.5, -81.5, -80.5,\n",
       "       ...\n",
       "        80.5,  81.5,  82.5,  83.5,  84.5,  85.5,  86.5,  87.5,  88.5,  89.5],\n",
       "      dtype=&#x27;float64&#x27;, name=&#x27;latitude&#x27;, length=180))</pre></div></li><li class='xr-var-item'><div class='xr-index-name'><div>depth</div></div><div class='xr-index-preview'>PandasIndex</div><div></div><input id='index-3031ed2e-cf10-4abd-8707-7cf6ac45f06d' class='xr-index-data-in' type='checkbox'/><label for='index-3031ed2e-cf10-4abd-8707-7cf6ac45f06d' title='Show/Hide index repr'><svg class='icon xr-icon-database'><use xlink:href='#icon-database'></use></svg></label><div class='xr-index-data'><pre>PandasIndex(Index([   0.0,   10.0,   20.0,   30.0,   50.0,   75.0,  100.0,  125.0,  150.0,\n",
       "        200.0,  250.0,  300.0,  400.0,  500.0,  600.0,  700.0,  800.0,  900.0,\n",
       "       1000.0, 1100.0, 1200.0, 1300.0, 1400.0, 1500.0, 1750.0, 2000.0, 2500.0,\n",
       "       3000.0, 3500.0, 4000.0, 4500.0, 5000.0, 5500.0],\n",
       "      dtype=&#x27;float64&#x27;, name=&#x27;depth&#x27;))</pre></div></li></ul></div></li><li class='xr-section-item'><input id='section-86b92e05-f378-4cab-a4c6-db10dd94dc68' class='xr-section-summary-in' type='checkbox'  checked><label for='section-86b92e05-f378-4cab-a4c6-db10dd94dc68' class='xr-section-summary' >Attributes: <span>(3)</span></label><div class='xr-section-inline-details'></div><div class='xr-section-details'><dl class='xr-attrs'><dt><span>title :</span></dt><dd>Gridded pCFC-12 Data</dd><dt><span>authors :</span></dt><dd>Bob Key</dd><dt><span>creation_date :</span></dt><dd>Jul 28 10:11, 2003</dd></dl></div></li></ul></div></div>"
      ],
      "text/plain": [
       "<xarray.Dataset> Size: 17MB\n",
       "Dimensions:    (longitude: 360, latitude: 180, depth: 33)\n",
       "Coordinates:\n",
       "  * longitude  (longitude) float64 3kB -179.5 -178.5 -177.5 ... 178.5 179.5\n",
       "  * latitude   (latitude) float64 1kB -89.5 -88.5 -87.5 -86.5 ... 87.5 88.5 89.5\n",
       "  * depth      (depth) float64 264B 0.0 10.0 20.0 30.0 ... 4.5e+03 5e+03 5.5e+03\n",
       "Data variables:\n",
       "    pCFC12     (depth, longitude, latitude) float32 9MB ...\n",
       "    pCFC12Err  (depth, longitude, latitude) float32 9MB ...\n",
       "Attributes:\n",
       "    title:          Gridded pCFC-12 Data\n",
       "    authors:        Bob Key\n",
       "    creation_date:  Jul 28 10:11, 2003"
      ]
     },
     "execution_count": 14,
     "metadata": {},
     "output_type": "execute_result"
    }
   ],
   "source": [
    "obs = xr.open_dataset(\"/net/jpd/glodap/pCFC12.nc\")\n",
    "obs"
   ]
  },
  {
   "cell_type": "markdown",
   "id": "bf13a1b3-ab8e-462d-941f-725da94fb101",
   "metadata": {},
   "source": [
    "### Compute zonal-depth integrals"
   ]
  },
  {
   "cell_type": "code",
   "execution_count": 15,
   "id": "ac6adeea-63c9-47b3-8c8b-ce9d36155a13",
   "metadata": {},
   "outputs": [],
   "source": [
    "from xhistogram.xarray import histogram"
   ]
  },
  {
   "cell_type": "code",
   "execution_count": 30,
   "id": "2ed69d2b-e462-4ea6-bece-c978508ccad4",
   "metadata": {},
   "outputs": [],
   "source": [
    "def vent(ds):\n",
    "    max_age = ds.agessc.max([\"xh\", \"yh\", \"z_l\"])\n",
    "    max_age = max_age.where(max_age > 0, 1.e-12)\n",
    "    return (max_age - ds.agessc)/max_age\n",
    "\n",
    "def obs_ventilation_inventory(obs, depth_range=[0, None], scaling_factor=1/350.):\n",
    "    # Add grid metrics\n",
    "    obs = obs.assign_coords({\"z_i\": xr.DataArray(\n",
    "        np.concatenate([np.array([0]), (obs[\"depth\"][:-1].values + obs[\"depth\"][1:].values) / 2., np.array([5750])]),\n",
    "        dims = (\"z_i\",)\n",
    "    )})\n",
    "    obs[\"dz\"] = xr.DataArray(obs.z_i.diff(\"z_i\").values, dims=(\"depth\",))\n",
    "    R = 6378e3\n",
    "    dlambda = 1.\n",
    "    obs[\"dx\"] = (2*np.pi*R/360)*dlambda*np.cos(np.deg2rad(obs.latitude))\n",
    "\n",
    "    # integrate in longitude and depth range\n",
    "    cfc12_inventory = (obs.pCFC12*obs.dx*obs.dz).sel(depth=slice(*depth_range)).sum([\"longitude\", \"depth\"])\n",
    "\n",
    "    # apply empirical scaling/normalization factor to allow comparison with age-based ventilation metric\n",
    "    scaled_ventilation_inventory = cfc12_inventory * scaling_factor\n",
    "    return scaled_ventilation_inventory\n",
    "\n",
    "def model_ventilation_inventory(ds, depth_range=[0, None]):\n",
    "    # Broadcast geolat so that argument for histogram has same dimensions as the weights\n",
    "    _, geolat = xr.broadcast(ds.agessc, ds.geolat)\n",
    "    geolat = geolat.rename(\"latitude\")\n",
    "\n",
    "    # Target coordinate bins\n",
    "    dphi = 1.\n",
    "    lat_bins = xr.DataArray(np.arange(-90, 91, dphi), dims=(\"latitude_bins\",))\n",
    "\n",
    "    # To accomodate the bipolar Arctic grid, instead of integrating along *nominal* longitude variable `xh`,\n",
    "    # we use xhistogram to do a weighted sum in latitude bins. Because we don't have the correct\n",
    "    # longitudinal widths of each grid cell, we over-weight the integral by `areacello` and then divide by the \n",
    "    # meridional width of each latitude band.\n",
    "    weights = vent(ds)*ds.areacello*ds.dz\n",
    "    ventilation_inventory_overweighted = histogram(\n",
    "        geolat.sel(z_l=slice(*depth_range)),\n",
    "        bins=lat_bins.values,\n",
    "        weights=weights.fillna(0.).sel(z_l=slice(*depth_range)),\n",
    "        dim=[\"xh\", \"z_l\", \"yh\"],\n",
    "        bin_dim_suffix=\"\",\n",
    "        block_size=None\n",
    "    )\n",
    "    R = 6378e3\n",
    "    meridional_arc_length = (2*np.pi/360) * dphi * R * np.cos(np.deg2rad(ventilation_inventory_overweighted.latitude))\n",
    "    ventilation_inventory = ventilation_inventory_overweighted / meridional_arc_length\n",
    "    return ventilation_inventory\n",
    "    "
   ]
  },
  {
   "cell_type": "code",
   "execution_count": 33,
   "id": "83d4dbae-0f16-4c46-8923-ccbda6719dbc",
   "metadata": {},
   "outputs": [
    {
     "ename": "NameError",
     "evalue": "name 'ds' is not defined",
     "output_type": "error",
     "traceback": [
      "\u001b[0;31m---------------------------------------------------------------------------\u001b[0m",
      "\u001b[0;31mNameError\u001b[0m                                 Traceback (most recent call last)",
      "Cell \u001b[0;32mIn[33], line 2\u001b[0m\n\u001b[1;32m      1\u001b[0m obs_ventilation_inventory(obs, depth_range\u001b[38;5;241m=\u001b[39m[\u001b[38;5;241m300\u001b[39m,\u001b[38;5;241m800\u001b[39m])\u001b[38;5;241m.\u001b[39mplot()\n\u001b[0;32m----> 2\u001b[0m model_ventilation_inventory(\u001b[43mds\u001b[49m, depth_range\u001b[38;5;241m=\u001b[39m[\u001b[38;5;241m300\u001b[39m,\u001b[38;5;241m800\u001b[39m])\u001b[38;5;241m.\u001b[39misel(time\u001b[38;5;241m=\u001b[39m\u001b[38;5;241m-\u001b[39m\u001b[38;5;241m1\u001b[39m)\u001b[38;5;241m.\u001b[39mplot()\n",
      "\u001b[0;31mNameError\u001b[0m: name 'ds' is not defined"
     ]
    },
    {
     "data": {
      "image/png": "[encoded data removed]",
      "text/plain": [
       "<Figure size 640x480 with 1 Axes>"
      ]
     },
     "metadata": {},
     "output_type": "display_data"
    }
   ],
   "source": [
    "obs_ventilation_inventory(obs, depth_range=[300,800]).plot()\n",
    "model_ventilation_inventory(ds, depth_range=[300,800]).isel(time=-1).plot()"
   ]
  },
  {
   "cell_type": "code",
   "execution_count": null,
   "id": "d8c44d60-072d-47e5-ae4c-ab32157ab68c",
   "metadata": {},
   "outputs": [],
   "source": []
  }
 ],
 "metadata": {
  "kernelspec": {
   "display_name": "Python 3 (ipykernel)",
   "language": "python",
   "name": "python3"
  },
  "language_info": {
   "codemirror_mode": {
    "name": "ipython",
    "version": 3
   },
   "file_extension": ".py",
   "mimetype": "text/x-python",
   "name": "python",
   "nbconvert_exporter": "python",
   "pygments_lexer": "ipython3",
   "version": "3.11.10"
  }
 },
 "nbformat": 4,
 "nbformat_minor": 5
}
