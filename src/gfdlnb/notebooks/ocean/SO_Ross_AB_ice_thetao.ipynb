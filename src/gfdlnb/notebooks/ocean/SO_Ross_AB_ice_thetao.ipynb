{
 "cells": [
  {
   "cell_type": "code",
   "execution_count": 1,
   "id": "44ae8264-b6cd-432a-8850-35e87b94428a",
   "metadata": {
    "editable": true,
    "slideshow": {
     "slide_type": ""
    },
    "tags": []
   },
   "outputs": [],
   "source": [
    "# For testing and development purposes, enter a start year, end year, and\n",
    "# an dora id number to analyze. The value of dora_id can also be a direct\n",
    "# path to a /pp directory.\n",
    "\n",
    "config = {\n",
    "    \"startyr\": 1998,\n",
    "    \"endyr\": 2017,\n",
    "    \"dora_id\": \"odiv-484\",\n",
    "}"
   ]
  },
  {
   "cell_type": "code",
   "execution_count": 2,
   "id": "961de374-8a2d-4ae1-9a12-1dc91b787530",
   "metadata": {
    "editable": true,
    "slideshow": {
     "slide_type": ""
    },
    "tags": []
   },
   "outputs": [],
   "source": [
    "# Make sure this cell is active so that the workflow and Dora can update\n",
    "# the config dictionary at runtime.\n",
    "\n",
    "from gfdlnb.tools.update_notebook_config import update_notebook_config\n",
    "config = update_notebook_config(config)"
   ]
  },
  {
   "cell_type": "code",
   "execution_count": 3,
   "id": "b9ae0369-6aef-4ae0-ac5d-926a1fb940b4",
   "metadata": {
    "editable": true,
    "slideshow": {
     "slide_type": ""
    },
    "tags": []
   },
   "outputs": [
    {
     "name": "stdout",
     "output_type": "stream",
     "text": [
      "{'startyr': 1998, 'endyr': 2017, 'dora_id': '/archive/John.Krasting/fre_om5/FMS2024.02_om5_20250206/om5_b08/gfdl.ncrc5-intel23-prod/pp'}\n"
     ]
    }
   ],
   "source": [
    "print(str(config))"
   ]
  },
  {
   "cell_type": "code",
   "execution_count": 4,
   "id": "8e2431b8-7599-444c-ad4e-adf5989a7db5",
   "metadata": {
    "editable": true,
    "slideshow": {
     "slide_type": ""
    },
    "tags": []
   },
   "outputs": [],
   "source": [
    "import os\n",
    "import datetime\n",
    "import doralite\n",
    "import xarray as xr\n",
    "import matplotlib.pyplot as plt\n",
    "import numpy as np\n",
    "import pandas as pd\n",
    "import doralite\n",
    "import glob\n",
    "import subprocess\n",
    "import momlevel\n",
    "import itertools\n",
    "from datetime import timedelta"
   ]
  },
  {
   "cell_type": "code",
   "execution_count": 5,
   "id": "55761ca6-2cc3-4eb6-a295-f1efdb13337f",
   "metadata": {
    "editable": true,
    "execution": {
     "iopub.execute_input": "2025-03-10T16:48:33.132968Z",
     "iopub.status.busy": "2025-03-10T16:48:33.132702Z",
     "iopub.status.idle": "2025-03-10T16:48:33.837699Z",
     "shell.execute_reply": "2025-03-10T16:48:33.837320Z"
    },
    "slideshow": {
     "slide_type": ""
    },
    "tags": []
   },
   "outputs": [],
   "source": [
    "import momgrid\n",
    "os.environ[\"MOMGRID_WEIGHTS_DIR\"] = \"/nbhome/John.Krasting/grid_weights\""
   ]
  },
  {
   "cell_type": "markdown",
   "id": "1a2281f9-cfcd-4bba-8f6c-4688e2e11b64",
   "metadata": {
    "editable": true,
    "slideshow": {
     "slide_type": ""
    },
    "tags": []
   },
   "source": [
    "### Definie Local Parameters"
   ]
  },
  {
   "cell_type": "code",
   "execution_count": 10,
   "id": "4fc48875-baa7-4636-8a20-dea1e1870c01",
   "metadata": {
    "editable": true,
    "slideshow": {
     "slide_type": ""
    },
    "tags": []
   },
   "outputs": [],
   "source": [
    "#List of all experiments to consider\n",
    "experiments = [doralite.dora_metadata(x) for x in config[\"dora_id\"].split(\",\")]\n",
    "\n",
    "# Define start and end years\n",
    "start = config[\"startyr\"]\n",
    "start = int(start) if start is not None else 1\n",
    "\n",
    "end = config[\"endyr\"]\n",
    "end = int(end) if end is not None else 9999"
   ]
  },
  {
   "cell_type": "markdown",
   "id": "9fbb4987-9dc5-400f-85f5-2429e4e2586d",
   "metadata": {
    "editable": true,
    "slideshow": {
     "slide_type": ""
    },
    "tags": []
   },
   "source": [
    "### Determine What Files to Load"
   ]
  },
  {
   "cell_type": "code",
   "execution_count": 11,
   "id": "3ac844ca-940f-4ed3-8dfa-7eb8e031a37d",
   "metadata": {
    "editable": true,
    "slideshow": {
     "slide_type": ""
    },
    "tags": []
   },
   "outputs": [],
   "source": [
    "def is_in_range(file,start,end):\n",
    "    start = int(start)\n",
    "    end = int(end)\n",
    "    target = set(list(range(start,end+1)))\n",
    "    fname = os.path.basename(file)\n",
    "    times = fname.split(\".\")[1]\n",
    "    times = times.split(\"-\")\n",
    "    times = [int(x[0:4]) for x in times]\n",
    "    candidate = set(list(range(times[0],times[1]+1)))\n",
    "    return len(candidate.intersection(target)) > 0"
   ]
  },
  {
   "cell_type": "code",
   "execution_count": 12,
   "id": "85d55b68-9851-4b1a-a9fe-8e869939b0da",
   "metadata": {
    "editable": true,
    "slideshow": {
     "slide_type": ""
    },
    "tags": []
   },
   "outputs": [],
   "source": [
    "# Define some local variables. These are taken from the doralite object\n",
    "# or they can be defined locally\n",
    "\n",
    "# 1. List of all experiments to consider\n",
    "experiments = [doralite.dora_metadata(x) for x in config[\"dora_id\"].split(\",\")]"
   ]
  },
  {
   "cell_type": "code",
   "execution_count": 13,
   "id": "402ef2bc-fe29-4501-afce-f85541394ea3",
   "metadata": {
    "editable": true,
    "slideshow": {
     "slide_type": ""
    },
    "tags": []
   },
   "outputs": [],
   "source": [
    "datafiles_ice = []\n",
    "staticfiles_ice = []\n",
    "\n",
    "datafiles_ocean = []\n",
    "staticfiles_ocean = []\n",
    "\n",
    "for experiment in experiments:\n",
    "    _pathPP = experiment[\"pathPP\"]\n",
    "#_pathPP = \"/archive/John.Krasting/fre/cm5/cm5_c96_am5f7c1r0_b06_piC_galb/gfdl.ncrc5-intel23-classic-prod-openmp/pp/\"\n",
    "\n",
    "    component = \"ice\"\n",
    "    static = f\"{component}/{component}.static.nc\"\n",
    "    varname = \"siconc\"\n",
    "\n",
    "    chunk = \"5yr\"\n",
    "    filelist = sorted(glob.glob(f\"{_pathPP}{component}/ts/monthly/{chunk}/{component}.*.{varname}.nc\"))\n",
    "    \n",
    "    filelist_ice = [x for x in filelist if is_in_range(x,start,end)]\n",
    "    _staticfile_ice = f\"{_pathPP}/{static}\"\n",
    "\n",
    "    staticfiles_ice.append(_staticfile_ice)\n",
    "    datafiles_ice.append(filelist_ice)\n",
    "\n",
    "    component = \"ocean_monthly_z_1x1deg\"\n",
    "    static = f\"{component}/{component}.static.nc\"\n",
    "    varname = \"thetao\"\n",
    "\n",
    "    filelist = sorted(glob.glob(f\"{_pathPP}{component}/ts/monthly/{chunk}/{component}.*.{varname}.nc\"))\n",
    "\n",
    "    filelist_ocean = [x for x in filelist if is_in_range(x,start,end)]\n",
    "    _staticfile_ocean = f\"{_pathPP}/{static}\"\n",
    "\n",
    "    staticfiles_ocean.append(_staticfile_ocean)\n",
    "    datafiles_ocean.append(filelist_ocean)"
   ]
  },
  {
   "cell_type": "markdown",
   "id": "2d1d23f3-b6df-41f3-a43d-aeebe0d6b35c",
   "metadata": {
    "editable": true,
    "slideshow": {
     "slide_type": ""
    },
    "tags": []
   },
   "source": [
    "## Dmgetting files for ice and ocean"
   ]
  },
  {
   "cell_type": "code",
   "execution_count": 14,
   "id": "7a5cf275-ea54-4802-b9be-91485d5a1ec4",
   "metadata": {
    "editable": true,
    "slideshow": {
     "slide_type": ""
    },
    "tags": []
   },
   "outputs": [
    {
     "name": "stdout",
     "output_type": "stream",
     "text": [
      "/archive/John.Krasting/fre_om5/FMS2024.02_om5_20250206/om5_b08/gfdl.ncrc5-intel23-prod/pp//ice/ice.static.nc\n",
      "/archive/John.Krasting/fre_om5/FMS2024.02_om5_20250206/om5_b08/gfdl.ncrc5-intel23-prod/pp//ocean_monthly_z_1x1deg/ocean_monthly_z_1x1deg.static.nc\n",
      "/archive/John.Krasting/fre_om5/FMS2024.02_om5_20250206/om5_b08/gfdl.ncrc5-intel23-prod/pp/ice/ts/monthly/5yr/ice.199801-200212.siconc.nc\n",
      "/archive/John.Krasting/fre_om5/FMS2024.02_om5_20250206/om5_b08/gfdl.ncrc5-intel23-prod/pp/ice/ts/monthly/5yr/ice.200301-200712.siconc.nc\n",
      "/archive/John.Krasting/fre_om5/FMS2024.02_om5_20250206/om5_b08/gfdl.ncrc5-intel23-prod/pp/ice/ts/monthly/5yr/ice.200801-201212.siconc.nc\n",
      "/archive/John.Krasting/fre_om5/FMS2024.02_om5_20250206/om5_b08/gfdl.ncrc5-intel23-prod/pp/ice/ts/monthly/5yr/ice.201301-201712.siconc.nc\n",
      "/archive/John.Krasting/fre_om5/FMS2024.02_om5_20250206/om5_b08/gfdl.ncrc5-intel23-prod/pp/ocean_monthly_z_1x1deg/ts/monthly/5yr/ocean_monthly_z_1x1deg.199801-200212.thetao.nc\n",
      "/archive/John.Krasting/fre_om5/FMS2024.02_om5_20250206/om5_b08/gfdl.ncrc5-intel23-prod/pp/ocean_monthly_z_1x1deg/ts/monthly/5yr/ocean_monthly_z_1x1deg.200301-200712.thetao.nc\n",
      "/archive/John.Krasting/fre_om5/FMS2024.02_om5_20250206/om5_b08/gfdl.ncrc5-intel23-prod/pp/ocean_monthly_z_1x1deg/ts/monthly/5yr/ocean_monthly_z_1x1deg.200801-201212.thetao.nc\n",
      "/archive/John.Krasting/fre_om5/FMS2024.02_om5_20250206/om5_b08/gfdl.ncrc5-intel23-prod/pp/ocean_monthly_z_1x1deg/ts/monthly/5yr/ocean_monthly_z_1x1deg.201301-201712.thetao.nc\n"
     ]
    }
   ],
   "source": [
    "allfiles = sorted(list(itertools.chain(*datafiles_ice)) + staticfiles_ice + list(itertools.chain(*datafiles_ocean)) + staticfiles_ocean)\n",
    "_ = [print(x) for x in allfiles]"
   ]
  },
  {
   "cell_type": "code",
   "execution_count": 15,
   "id": "5aefcdd1-f1b2-4c67-a729-fb8f3d41cce5",
   "metadata": {
    "editable": true,
    "slideshow": {
     "slide_type": ""
    },
    "tags": [
     "stop_here"
    ]
   },
   "outputs": [
    {
     "name": "stdout",
     "output_type": "stream",
     "text": [
      "Calling dmget on files ...\n"
     ]
    }
   ],
   "source": [
    "if not \"DORA_EXECUTE\" in os.environ.keys():\n",
    "    print(\"Calling dmget on files ...\")\n",
    "    cmd = [\"dmget\"]+allfiles\n",
    "    _ = subprocess.check_output(cmd)"
   ]
  },
  {
   "cell_type": "markdown",
   "id": "cbc3f5d7-1bff-4bdd-af22-cbd63dfe16ef",
   "metadata": {
    "editable": true,
    "slideshow": {
     "slide_type": ""
    },
    "tags": []
   },
   "source": [
    "## Figure creation -- similar to Held 2019 CM4 documentation figure"
   ]
  },
  {
   "cell_type": "code",
   "execution_count": 16,
   "id": "2c2f339c-6973-4762-b7ff-56f006f4a88a",
   "metadata": {
    "editable": true,
    "slideshow": {
     "slide_type": ""
    },
    "tags": []
   },
   "outputs": [
    {
     "name": "stderr",
     "output_type": "stream",
     "text": [
      "/vftmp/John.Krasting/pid176142/ipykernel_241084/1371339481.py:51: UserWarning: This figure includes Axes that are not compatible with tight_layout, so results might be incorrect.\n",
      "  plt.tight_layout()\n"
     ]
    },
    {
     "data": {
      "image/png": "[encoded data removed]",
      "text/plain": [
       "<Figure size 640x480 with 3 Axes>"
      ]
     },
     "metadata": {},
     "output_type": "display_data"
    }
   ],
   "source": [
    "n_rows = len(datafiles_ocean)\n",
    "\n",
    "fig, axis = plt.subplots(ncols=1, nrows=n_rows+1, dpi=100)\n",
    "\n",
    "for n,exp in enumerate(experiments):\n",
    "\n",
    "    expName = exp[\"expName\"]\n",
    "    \n",
    "    # Open datasets\n",
    "    ds_ice = xr.open_mfdataset(datafiles_ice[n], use_cftime=True)\n",
    "    ds_static_ice = xr.open_dataset(staticfiles_ice[n])\n",
    "\n",
    "    ds_ocean = xr.open_mfdataset(datafiles_ocean[n], use_cftime=True)\n",
    "    ds_static_ocean = xr.open_dataset(staticfiles_ocean[n])\n",
    "    \n",
    "    # Ice mask and estimate of surface area\n",
    "    mask_RAB = (ds_static_ice.GEOLAT <= -40) & (ds_static_ice.GEOLON >= -200) & (ds_static_ice.GEOLON <= -60)\n",
    "    idx_sep = ds_ice.time.dt.month == 9\n",
    "    dA_Earth = 510e6 # units km^2\n",
    "    siextent_RAB = (ds_ice.siconc[idx_sep].groupby(ds_ice.time[idx_sep].dt.year).mean() * mask_RAB * ds_static_ice.CELL_AREA).sum(dim=['xT', 'yT'])\n",
    "\n",
    "    ## ocean masks for Ross Sea and selecting for JAS temperatures\n",
    "    idx_jas = ds_ocean.time.dt.month.isin([7,8,9])\n",
    "\n",
    "    thetao_Ross = ds_ocean.thetao.sel(lat=slice(-90,-60)).sel(lon=slice(160,230))\n",
    "    area_Ross = ds_static_ocean.areacello.sel(lat=slice(-90,-60)).sel(lon=slice(160,230))\n",
    "\n",
    "    thetao_Ross_JAS = thetao_Ross[idx_jas,:,:,:].groupby(ds_ocean.time[idx_jas].dt.year).mean() \n",
    "    thetao_Ross_JAS_avg = (thetao_Ross_JAS * area_Ross).sum(dim=['lat', 'lon'])/area_Ross.sum(dim=['lat','lon'])\n",
    "    \n",
    "    #################################################################################################\n",
    "    ## plotting...\n",
    "    (1e-6 * dA_Earth * siextent_RAB).plot.line(ax=axis[0], label=expName, linestyle='solid', linewidth=1.5)\n",
    "\n",
    "    im = thetao_Ross_JAS_avg.plot.contourf(ax=axis[n+1], x='year', vmin=-1.5, vmax=1.5, levels=19, \n",
    "                                  cmap=\"RdYlBu_r\", extend=\"neither\", add_colorbar=False)\n",
    "    axis[n+1].set_title(f'Ross JAS Temperatures, {expName}', fontsize=12)\n",
    "    axis[n+1].set_ylim([5000, 0])\n",
    "    axis[n+1].set_ylabel('Depth (m)')\n",
    "    axis[n+1].set_xlabel('Year')\n",
    "    axis[n+1].grid(linewidth=1, linestyle=\"dotted\")\n",
    "    \n",
    "axis[0].legend(loc='lower right', fontsize=10)\n",
    "axis[0].set_title('Ross, Amundsen and Bellingshausen Sept. Sea Ice Extent', fontsize=12)\n",
    "axis[0].set_ylabel('Sea Ice Extent (M km$^2$)')\n",
    "axis[0].set_xlabel('Year')\n",
    "axis[0].grid(linewidth=1, linestyle=\"dotted\")\n",
    "\n",
    "cbar_ax = fig.add_axes([.2, .03, .70, .03])\n",
    "fig.colorbar(im,cax = cbar_ax, orientation=\"horizontal\", ticks=np.arange(-1.5,2,.5))\n",
    "plt.tight_layout()"
   ]
  },
  {
   "cell_type": "code",
   "execution_count": null,
   "id": "cb523681-a6a0-4800-9c00-f28658cec225",
   "metadata": {
    "editable": true,
    "slideshow": {
     "slide_type": ""
    },
    "tags": []
   },
   "outputs": [],
   "source": [
    "# # Open datasets\n",
    "# ds_ice = xr.open_mfdataset(filelist_ice, use_cftime=True)\n",
    "# ds_static_ice = xr.open_dataset(_staticfile_ice)\n",
    "\n",
    "# ds_ocean = xr.open_mfdataset(filelist_ocean, use_cftime=True)\n",
    "# ds_static_ocean = xr.open_dataset(_staticfile_ocean)\n",
    "\n",
    "# ## ice mask and estimate of surface area\n",
    "# mask_RAB = (ds_static_ice.GEOLAT <= -40) & (ds_static_ice.GEOLON >= -200) & (ds_static_ice.GEOLON <= -60)\n",
    "\n",
    "# idx_sep = ds_ice.time.dt.month == 9\n",
    "\n",
    "# dA_Earth = 510e6 # units km^2\n",
    "\n",
    "# siextent_RAB = (ds_ice.siconc[idx_sep].groupby(ds_ice.time[idx_sep].dt.year).mean() * mask_RAB * ds_static_ice.CELL_AREA).sum(dim=['xT', 'yT'])\n",
    "\n",
    "# ## ocean mask for Ross Sea\n",
    "# idx_jas = ds_ocean.time.dt.month.isin([7,8,9])\n",
    "\n",
    "# # If using 1x1deg diagnostics ---\n",
    "# thetao_Ross = ds_ocean.thetao.sel(lat=slice(-90,-60)).sel(lon=slice(160,230))\n",
    "# area_Ross = ds_static_ocean.areacello.sel(lat=slice(-90,-60)).sel(lon=slice(160,230))\n",
    "\n",
    "# thetao_Ross_JAS = thetao_Ross[idx_jas,:,:,:].groupby(ds_ocean.time[idx_jas].dt.year).mean() \n",
    "\n",
    "# thetao_Ross_JAS_avg = (thetao_Ross_JAS * area_Ross).sum(dim=['lat', 'lon'])/area_Ross.sum(dim=['lat','lon'])"
   ]
  },
  {
   "cell_type": "code",
   "execution_count": null,
   "id": "9934a7a7-0a2e-4716-aec1-e9acd2efb842",
   "metadata": {
    "tags": []
   },
   "outputs": [],
   "source": [
    "# fig, axis = plt.subplots(ncols=1, nrows=2, figsize=(8,4.7), dpi=100, sharex=True)\n",
    "\n",
    "# (1e-6 * dA_Earth * siextent_RAB).plot.line(ax=axis[0], label='cm5-3', linestyle='solid', linewidth=1.5)\n",
    "# axis[0].legend(loc='lower right', fontsize=10)\n",
    "# axis[0].set_title('Ross, Amundsen and Bellingshausen Sept. Sea Ice Extent', fontsize=12)\n",
    "# axis[0].set_ylabel('Sea Ice Extent (M km$^2$)')\n",
    "# axis[0].set_xlabel('')\n",
    "# axis[0].set_xlim([start, end])\n",
    "\n",
    "\n",
    "# im = thetao_Ross_JAS_avg.plot.contourf(ax=axis[1], x='year', vmin=-1.5, vmax=1.5, levels=19, \n",
    "#                                   cmap=\"RdYlBu_r\", extend=\"neither\", add_colorbar=False)\n",
    "# axis[1].set_title('Ross JAS Temperatures, cm5-3', fontsize=12)\n",
    "# axis[1].set_ylim([5000, 0])\n",
    "# axis[1].set_ylabel('Depth (m)')\n",
    "# axis[1].set_xlim([start, end])\n",
    "\n",
    "# cbar_ax = fig.add_axes([.15, .03, .70, .03])\n",
    "# fig.colorbar(im,cax =cbar_ax, orientation=\"horizontal\", ticks=np.arange(-1.5,2,.5))\n",
    "# plt.tight_layout()"
   ]
  },
  {
   "cell_type": "code",
   "execution_count": null,
   "id": "288aaa02-63a6-45ba-a984-935f6adc1649",
   "metadata": {},
   "outputs": [],
   "source": []
  }
 ],
 "metadata": {
  "kernelspec": {
   "display_name": "Python 3 (ipykernel)",
   "language": "python",
   "name": "python3"
  },
  "language_info": {
   "codemirror_mode": {
    "name": "ipython",
    "version": 3
   },
   "file_extension": ".py",
   "mimetype": "text/x-python",
   "name": "python",
   "nbconvert_exporter": "python",
   "pygments_lexer": "ipython3",
   "version": "3.11.6"
  }
 },
 "nbformat": 4,
 "nbformat_minor": 5
}
