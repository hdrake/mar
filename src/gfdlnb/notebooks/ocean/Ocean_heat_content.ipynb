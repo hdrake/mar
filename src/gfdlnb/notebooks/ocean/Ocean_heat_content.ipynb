{
 "cells": [
  {
   "cell_type": "markdown",
   "id": "8bfb94a9-e573-406d-b140-86af797d9523",
   "metadata": {
    "editable": true,
    "slideshow": {
     "slide_type": ""
    },
    "tags": []
   },
   "source": [
    "# Ocean heat content vs Zanna et al., PNAS 2019"
   ]
  },
  {
   "cell_type": "markdown",
   "id": "bb7a4fa0-db98-49a6-85c4-94096b405a03",
   "metadata": {
    "editable": true,
    "slideshow": {
     "slide_type": ""
    },
    "tags": []
   },
   "source": [
    "This notebook plots the Ocean heat content change compared to Zanna et al., PNAS (2019)"
   ]
  },
  {
   "cell_type": "code",
   "execution_count": 1,
   "id": "68078c46-4b7b-4b2f-b8c1-2d2538f46ebc",
   "metadata": {
    "editable": true,
    "slideshow": {
     "slide_type": ""
    },
    "tags": []
   },
   "outputs": [],
   "source": [
    "import os\n",
    "import datetime"
   ]
  },
  {
   "cell_type": "code",
   "execution_count": 2,
   "id": "50093a3b-2193-4041-8409-de3dc594cf7d",
   "metadata": {},
   "outputs": [],
   "source": [
    "config = {\n",
    "    \"startyr\": \"1975\",\n",
    "    \"endyr\": \"2015\",\n",
    "    \"dora_id\": \"odiv-319, odiv-362\", # try with just \"odiv-319\" as well.\n",
    "    \"pathPP\": None,\n",
    "}"
   ]
  },
  {
   "cell_type": "markdown",
   "id": "b3f810d8-4fac-4b1b-afc3-14077762b34a",
   "metadata": {},
   "source": [
    "MAR will pass for environment variables to the script when running via the web engine:\n",
    "\n",
    "* `MAR_STARTYR`: A `str` of the beginning year of analysis from model\n",
    "* `MAR_ENDYR`: A `str` of the ending year of analysis from model\n",
    "* `MAR_DORA_ID`: A `str` of the experiment ID in the database for a single experiment, e.g. `\"odiv-1\"`, or comma-separated experiments, e.g. `\"odiv-1, odiv-2\"`\n",
    "* `MAR_PATHPP`: A `str` of the top-level path to the post-processing experiment directory of the experiment\n",
    "\n",
    "The block below will use values passed in by Dora but default to the values defined above in `config`. This is useful for interactive usage and debugging.\n",
    "\n",
    "If executed from Dora, there will also be a `DORA_EXECUTE` variable that is set."
   ]
  },
  {
   "cell_type": "code",
   "execution_count": 3,
   "id": "3ed173d4-cc6d-4693-934a-ff02dd96e632",
   "metadata": {},
   "outputs": [],
   "source": [
    "for k, v in config.items():\n",
    "    if f\"MAR_{k.upper()}\" in os.environ.keys():\n",
    "        c = os.environ[f\"MAR_{k.upper()}\"]\n",
    "    else:\n",
    "        c = v\n",
    "    if k==\"dora_id\" and (type(v) is not list): \n",
    "        c = [e.strip(\" \") for e in c.split(\",\")]\n",
    "    config[k] = c"
   ]
  },
  {
   "cell_type": "markdown",
   "id": "74366b78-6b75-4210-9ed3-24cef6af4550",
   "metadata": {},
   "source": [
    "### Import Python Modules"
   ]
  },
  {
   "cell_type": "code",
   "execution_count": 4,
   "id": "dfcdc828-ad45-4ef0-92bc-05df9c036270",
   "metadata": {
    "editable": true,
    "slideshow": {
     "slide_type": ""
    },
    "tags": []
   },
   "outputs": [],
   "source": [
    "import doralite\n",
    "import glob\n",
    "import subprocess \n",
    "\n",
    "import numpy as np\n",
    "import xarray as xr\n",
    "import matplotlib.pyplot as plt\n",
    "import cftime"
   ]
  },
  {
   "cell_type": "code",
   "execution_count": 5,
   "id": "00991dac-722f-4ca5-884b-23b780e8679e",
   "metadata": {},
   "outputs": [],
   "source": [
    "# momgrid will use a directory of pre-computed weights\n",
    "import momgrid\n",
    "os.environ[\"MOMGRID_WEIGHTS_DIR\"] = \"/nbhome/John.Krasting/grid_weights\""
   ]
  },
  {
   "cell_type": "markdown",
   "id": "d3ddbddd-eed1-4ac4-9123-6c7df5fcab03",
   "metadata": {
    "editable": true,
    "slideshow": {
     "slide_type": ""
    },
    "tags": []
   },
   "source": [
    "### Define Local Parameters"
   ]
  },
  {
   "cell_type": "code",
   "execution_count": 6,
   "id": "04229c22-3781-400f-a390-8c5eaaef5189",
   "metadata": {
    "editable": true,
    "slideshow": {
     "slide_type": ""
    },
    "tags": []
   },
   "outputs": [],
   "source": [
    "# Define some local variables. These are taken from the doralite object\n",
    "# or they can be defined locally\n",
    "\n",
    "def get_local_params(config):\n",
    "    experiments = {dora_id: doralite.dora_metadata(dora_id) for dora_id in config[\"dora_id\"]}\n",
    "    params = {\n",
    "        dora_id: {\n",
    "            \"experiment\": experiment,\n",
    "            \"pathPP\": experiment[\"pathPP\"],\n",
    "            \"expName\": experiment[\"expName\"]\n",
    "        }\n",
    "        for dora_id, experiment in experiments.items()\n",
    "    }\n",
    "    return params\n",
    "\n",
    "start = int(config[\"startyr\"])\n",
    "end = int(config[\"endyr\"])\n",
    "params = get_local_params(config)"
   ]
  },
  {
   "cell_type": "markdown",
   "id": "a8642873-93e4-4e1f-9486-435d6070fc43",
   "metadata": {},
   "source": [
    "### Determine What Files to Load"
   ]
  },
  {
   "cell_type": "code",
   "execution_count": 7,
   "id": "61b3b4a4-8b70-4a01-bae7-1c0496347c00",
   "metadata": {
    "editable": true,
    "slideshow": {
     "slide_type": ""
    },
    "tags": []
   },
   "outputs": [],
   "source": [
    "# Determine what files are needed (leave this up to the developer for flexibility)\n",
    "# This is an example of what someone might do:\n",
    "\n",
    "component = \"ocean_annual_z\"\n",
    "static = f\"{component}/{component}.static.nc\"\n",
    "varnames = [\"thetao\", \"volcello\"]\n",
    "\n",
    "chunk = \"5yr\"\n",
    "\n",
    "list_of_filelists = []\n",
    "\n",
    "for p in params.values(): # loop on experiments\n",
    "    flist = []\n",
    "    for varname in varnames: # loop on variables\n",
    "        flist += glob.glob(f\"{p['pathPP']}{component}/ts/**/{chunk}/{component}.*.{varname}.nc\", recursive=True)\n",
    "    list_of_filelists.append(flist)"
   ]
  },
  {
   "cell_type": "code",
   "execution_count": 8,
   "id": "382835f3-a3d7-419f-a92f-e65808230c59",
   "metadata": {
    "editable": true,
    "slideshow": {
     "slide_type": ""
    },
    "tags": []
   },
   "outputs": [
    {
     "name": "stdout",
     "output_type": "stream",
     "text": [
      "/archive/Brandon.Reichl/fre_om5/FMS2023.01_om5_20230927/om5_b02_minthick1em3_MLErestart/gfdl.ncrc5-intel23-prod/pp/ocean_annual_z/ts/annual/5yr/ocean_annual_z.1973-1977.thetao.nc\n",
      "/archive/Brandon.Reichl/fre_om5/FMS2023.01_om5_20230927/om5_b02_minthick1em3_MLErestart/gfdl.ncrc5-intel23-prod/pp/ocean_annual_z/ts/annual/5yr/ocean_annual_z.1973-1977.volcello.nc\n",
      "/archive/Brandon.Reichl/fre_om5/FMS2023.01_om5_20230927/om5_b02_minthick1em3_MLErestart/gfdl.ncrc5-intel23-prod/pp/ocean_annual_z/ts/annual/5yr/ocean_annual_z.1978-1982.thetao.nc\n",
      "/archive/Brandon.Reichl/fre_om5/FMS2023.01_om5_20230927/om5_b02_minthick1em3_MLErestart/gfdl.ncrc5-intel23-prod/pp/ocean_annual_z/ts/annual/5yr/ocean_annual_z.1978-1982.volcello.nc\n",
      "/archive/Brandon.Reichl/fre_om5/FMS2023.01_om5_20230927/om5_b02_minthick1em3_MLErestart/gfdl.ncrc5-intel23-prod/pp/ocean_annual_z/ts/annual/5yr/ocean_annual_z.1983-1987.thetao.nc\n",
      "/archive/Brandon.Reichl/fre_om5/FMS2023.01_om5_20230927/om5_b02_minthick1em3_MLErestart/gfdl.ncrc5-intel23-prod/pp/ocean_annual_z/ts/annual/5yr/ocean_annual_z.1983-1987.volcello.nc\n",
      "/archive/Brandon.Reichl/fre_om5/FMS2023.01_om5_20230927/om5_b02_minthick1em3_MLErestart/gfdl.ncrc5-intel23-prod/pp/ocean_annual_z/ts/annual/5yr/ocean_annual_z.1988-1992.thetao.nc\n",
      "/archive/Brandon.Reichl/fre_om5/FMS2023.01_om5_20230927/om5_b02_minthick1em3_MLErestart/gfdl.ncrc5-intel23-prod/pp/ocean_annual_z/ts/annual/5yr/ocean_annual_z.1988-1992.volcello.nc\n",
      "/archive/Brandon.Reichl/fre_om5/FMS2023.01_om5_20230927/om5_b02_minthick1em3_MLErestart/gfdl.ncrc5-intel23-prod/pp/ocean_annual_z/ts/annual/5yr/ocean_annual_z.1993-1997.thetao.nc\n",
      "/archive/Brandon.Reichl/fre_om5/FMS2023.01_om5_20230927/om5_b02_minthick1em3_MLErestart/gfdl.ncrc5-intel23-prod/pp/ocean_annual_z/ts/annual/5yr/ocean_annual_z.1993-1997.volcello.nc\n",
      "/archive/Brandon.Reichl/fre_om5/FMS2023.01_om5_20230927/om5_b02_minthick1em3_MLErestart/gfdl.ncrc5-intel23-prod/pp/ocean_annual_z/ts/annual/5yr/ocean_annual_z.1998-2002.thetao.nc\n",
      "/archive/Brandon.Reichl/fre_om5/FMS2023.01_om5_20230927/om5_b02_minthick1em3_MLErestart/gfdl.ncrc5-intel23-prod/pp/ocean_annual_z/ts/annual/5yr/ocean_annual_z.1998-2002.volcello.nc\n",
      "/archive/Brandon.Reichl/fre_om5/FMS2023.01_om5_20230927/om5_b02_minthick1em3_MLErestart/gfdl.ncrc5-intel23-prod/pp/ocean_annual_z/ts/annual/5yr/ocean_annual_z.2003-2007.thetao.nc\n",
      "/archive/Brandon.Reichl/fre_om5/FMS2023.01_om5_20230927/om5_b02_minthick1em3_MLErestart/gfdl.ncrc5-intel23-prod/pp/ocean_annual_z/ts/annual/5yr/ocean_annual_z.2003-2007.volcello.nc\n",
      "/archive/Brandon.Reichl/fre_om5/FMS2023.01_om5_20230927/om5_b02_minthick1em3_MLErestart/gfdl.ncrc5-intel23-prod/pp/ocean_annual_z/ts/annual/5yr/ocean_annual_z.2008-2012.thetao.nc\n",
      "/archive/Brandon.Reichl/fre_om5/FMS2023.01_om5_20230927/om5_b02_minthick1em3_MLErestart/gfdl.ncrc5-intel23-prod/pp/ocean_annual_z/ts/annual/5yr/ocean_annual_z.2008-2012.volcello.nc\n",
      "/archive/Brandon.Reichl/fre_om5/FMS2023.01_om5_20230927/om5_b02_minthick1em3_MLErestart/gfdl.ncrc5-intel23-prod/pp/ocean_annual_z/ts/annual/5yr/ocean_annual_z.2013-2017.thetao.nc\n",
      "/archive/Brandon.Reichl/fre_om5/FMS2023.01_om5_20230927/om5_b02_minthick1em3_MLErestart/gfdl.ncrc5-intel23-prod/pp/ocean_annual_z/ts/annual/5yr/ocean_annual_z.2013-2017.volcello.nc\n",
      "/archive/John.Krasting/fre_om5/FMS2023.01_om5_20231122/om5_b03_standard_sp_r8_v2/gfdl.ncrc5-intel23-prod/pp/ocean_annual_z/ts/annual/5yr/ocean_annual_z.1973-1977.thetao.nc\n",
      "/archive/John.Krasting/fre_om5/FMS2023.01_om5_20231122/om5_b03_standard_sp_r8_v2/gfdl.ncrc5-intel23-prod/pp/ocean_annual_z/ts/annual/5yr/ocean_annual_z.1973-1977.volcello.nc\n",
      "/archive/John.Krasting/fre_om5/FMS2023.01_om5_20231122/om5_b03_standard_sp_r8_v2/gfdl.ncrc5-intel23-prod/pp/ocean_annual_z/ts/annual/5yr/ocean_annual_z.1978-1982.thetao.nc\n",
      "/archive/John.Krasting/fre_om5/FMS2023.01_om5_20231122/om5_b03_standard_sp_r8_v2/gfdl.ncrc5-intel23-prod/pp/ocean_annual_z/ts/annual/5yr/ocean_annual_z.1978-1982.volcello.nc\n",
      "/archive/John.Krasting/fre_om5/FMS2023.01_om5_20231122/om5_b03_standard_sp_r8_v2/gfdl.ncrc5-intel23-prod/pp/ocean_annual_z/ts/annual/5yr/ocean_annual_z.1983-1987.thetao.nc\n",
      "/archive/John.Krasting/fre_om5/FMS2023.01_om5_20231122/om5_b03_standard_sp_r8_v2/gfdl.ncrc5-intel23-prod/pp/ocean_annual_z/ts/annual/5yr/ocean_annual_z.1983-1987.volcello.nc\n",
      "/archive/John.Krasting/fre_om5/FMS2023.01_om5_20231122/om5_b03_standard_sp_r8_v2/gfdl.ncrc5-intel23-prod/pp/ocean_annual_z/ts/annual/5yr/ocean_annual_z.1988-1992.thetao.nc\n",
      "/archive/John.Krasting/fre_om5/FMS2023.01_om5_20231122/om5_b03_standard_sp_r8_v2/gfdl.ncrc5-intel23-prod/pp/ocean_annual_z/ts/annual/5yr/ocean_annual_z.1988-1992.volcello.nc\n",
      "/archive/John.Krasting/fre_om5/FMS2023.01_om5_20231122/om5_b03_standard_sp_r8_v2/gfdl.ncrc5-intel23-prod/pp/ocean_annual_z/ts/annual/5yr/ocean_annual_z.1993-1997.thetao.nc\n",
      "/archive/John.Krasting/fre_om5/FMS2023.01_om5_20231122/om5_b03_standard_sp_r8_v2/gfdl.ncrc5-intel23-prod/pp/ocean_annual_z/ts/annual/5yr/ocean_annual_z.1993-1997.volcello.nc\n",
      "/archive/John.Krasting/fre_om5/FMS2023.01_om5_20231122/om5_b03_standard_sp_r8_v2/gfdl.ncrc5-intel23-prod/pp/ocean_annual_z/ts/annual/5yr/ocean_annual_z.1998-2002.thetao.nc\n",
      "/archive/John.Krasting/fre_om5/FMS2023.01_om5_20231122/om5_b03_standard_sp_r8_v2/gfdl.ncrc5-intel23-prod/pp/ocean_annual_z/ts/annual/5yr/ocean_annual_z.1998-2002.volcello.nc\n",
      "/archive/John.Krasting/fre_om5/FMS2023.01_om5_20231122/om5_b03_standard_sp_r8_v2/gfdl.ncrc5-intel23-prod/pp/ocean_annual_z/ts/annual/5yr/ocean_annual_z.2003-2007.thetao.nc\n",
      "/archive/John.Krasting/fre_om5/FMS2023.01_om5_20231122/om5_b03_standard_sp_r8_v2/gfdl.ncrc5-intel23-prod/pp/ocean_annual_z/ts/annual/5yr/ocean_annual_z.2003-2007.volcello.nc\n",
      "/archive/John.Krasting/fre_om5/FMS2023.01_om5_20231122/om5_b03_standard_sp_r8_v2/gfdl.ncrc5-intel23-prod/pp/ocean_annual_z/ts/annual/5yr/ocean_annual_z.2008-2012.thetao.nc\n",
      "/archive/John.Krasting/fre_om5/FMS2023.01_om5_20231122/om5_b03_standard_sp_r8_v2/gfdl.ncrc5-intel23-prod/pp/ocean_annual_z/ts/annual/5yr/ocean_annual_z.2008-2012.volcello.nc\n",
      "/archive/John.Krasting/fre_om5/FMS2023.01_om5_20231122/om5_b03_standard_sp_r8_v2/gfdl.ncrc5-intel23-prod/pp/ocean_annual_z/ts/annual/5yr/ocean_annual_z.2013-2017.thetao.nc\n",
      "/archive/John.Krasting/fre_om5/FMS2023.01_om5_20231122/om5_b03_standard_sp_r8_v2/gfdl.ncrc5-intel23-prod/pp/ocean_annual_z/ts/annual/5yr/ocean_annual_z.2013-2017.volcello.nc\n"
     ]
    }
   ],
   "source": [
    "def is_in_range(file,start,end):\n",
    "    start = int(start)\n",
    "    end = int(end)\n",
    "    target = set(list(range(start,end+1)))\n",
    "    fname = os.path.basename(file)\n",
    "    times = fname.split(\".\")[1]\n",
    "    times = times.split(\"-\")\n",
    "    times = [int(x[0:4]) for x in times]\n",
    "    candidate = set(list(range(times[0],times[1]+1)))\n",
    "    return len(candidate.intersection(target)) > 0\n",
    "\n",
    "import itertools\n",
    "list_of_filelists = [[x for x in filelist if is_in_range(x,start,end)] for filelist in list_of_filelists]\n",
    "filelist = sorted(list(itertools.chain.from_iterable(list_of_filelists)))\n",
    "\n",
    "staticfiles = [f\"{p['pathPP']}/{static}\" for p in params.values()]\n",
    "\n",
    "_ = [print(x) for x in filelist]"
   ]
  },
  {
   "cell_type": "markdown",
   "id": "4bfd8545-cb3b-43ee-b1fb-e71a99fe3262",
   "metadata": {
    "editable": true,
    "slideshow": {
     "slide_type": ""
    },
    "tags": [
     "stop_here"
    ]
   },
   "source": [
    "### DMgetting Files"
   ]
  },
  {
   "cell_type": "markdown",
   "id": "736dbdaa-f8ed-4ad8-a641-eee616041458",
   "metadata": {},
   "source": [
    "Dora cannot issue calls to dmget"
   ]
  },
  {
   "cell_type": "code",
   "execution_count": 9,
   "id": "7096dc5b-559b-4221-a189-0836d77afd12",
   "metadata": {
    "editable": true,
    "slideshow": {
     "slide_type": ""
    },
    "tags": []
   },
   "outputs": [
    {
     "name": "stdout",
     "output_type": "stream",
     "text": [
      "Calling dmget on files ...\n"
     ]
    }
   ],
   "source": [
    "if not \"DORA_EXECUTE\" in os.environ.keys():\n",
    "    print(\"Calling dmget on files ...\")\n",
    "    cmd = [\"dmget\"]+filelist+staticfiles\n",
    "    _ = subprocess.check_output(cmd)"
   ]
  },
  {
   "cell_type": "markdown",
   "id": "b32a4d6d-e5a7-4477-af8f-9e5468e3babc",
   "metadata": {
    "editable": true,
    "slideshow": {
     "slide_type": ""
    },
    "tags": []
   },
   "source": [
    "### Load model data and grid"
   ]
  },
  {
   "cell_type": "code",
   "execution_count": 10,
   "id": "70b1b444-20e4-4e63-b8a6-4d076d977eb2",
   "metadata": {
    "editable": true,
    "slideshow": {
     "slide_type": ""
    },
    "tags": []
   },
   "outputs": [],
   "source": [
    "models = {}\n",
    "for odiv, filelist, staticfile in zip(params.keys(), list_of_filelists, staticfiles):\n",
    "\n",
    "    gds = momgrid.Gridset(filelist, force_symmetric=True, return_corners=True)\n",
    "    gds.data = gds.data.sel(time=slice(f\"{str(start).zfill(4)}-01-01\",f\"{str(end).zfill(4)}-12-31\"))\n",
    "\n",
    "    og = xr.open_dataset(staticfile)\n",
    "    og = og.assign_coords({\"xh\":gds.data.xh, \"yh\":gds.data.yh})\n",
    "\n",
    "    models[odiv] = {\"gds\":gds, \"og\":og}"
   ]
  },
  {
   "cell_type": "markdown",
   "id": "3281e9a1-7d5d-4b51-afd8-867b973e2e10",
   "metadata": {
    "editable": true,
    "slideshow": {
     "slide_type": ""
    },
    "tags": []
   },
   "source": [
    "### Load observational data (if needed)"
   ]
  },
  {
   "cell_type": "markdown",
   "id": "1cd28781-a0f9-44b5-9ef7-fc8251601eca",
   "metadata": {
    "editable": true,
    "slideshow": {
     "slide_type": ""
    },
    "tags": []
   },
   "source": [
    "Note that Dora only mounts `/archive`, `/nbhome`, and `/home`"
   ]
  },
  {
   "cell_type": "code",
   "execution_count": 11,
   "id": "2a6c12c2-8995-4682-af24-4413c8754558",
   "metadata": {
    "editable": true,
    "slideshow": {
     "slide_type": ""
    },
    "tags": []
   },
   "outputs": [],
   "source": [
    "obsfile = \"/archive/Raphael.Dussin/datasets/OHC_Zanna/OHC_GF_1870_2018.nc\"\n",
    "Zanna = xr.open_dataset(obsfile)\n",
    "Zanna = Zanna.rename({'time (starting 1870)': 'time'})\n",
    "Zanna = Zanna.set_coords(['time'])\n",
    "dates = []\n",
    "for year in Zanna['time'].values:\n",
    "    dates.append(cftime.DatetimeNoLeap(year, 7, 16, hour=12))\n",
    "Zanna['time'] = xr.DataArray(np.array(dates), dims='time')"
   ]
  },
  {
   "cell_type": "code",
   "execution_count": 12,
   "id": "51cf4198-3e1d-4859-97b5-9bc07da383b7",
   "metadata": {
    "editable": true,
    "slideshow": {
     "slide_type": ""
    },
    "tags": []
   },
   "outputs": [],
   "source": [
    "def compute_OHC(ds, rho0=1025, Cp=3850):\n",
    "    \"\"\" compute OHC for various depths \"\"\"\n",
    "    slice_700 = {\"z_l\": slice(0,700)}\n",
    "    slice_2000 = {\"z_l\": slice(0,2000)}\n",
    "    slice_b2000 = {\"z_l\": slice(2000, None)}\n",
    "    dims = [\"xh\", \"yh\", \"z_l\"]\n",
    "    ohc = xr.Dataset()\n",
    "    ohc[\"OHC_700m\"] = rho0 * Cp * (ds[\"thetao\"] * ds[\"volcello\"]).sel(slice_700).sum(dim=dims)\n",
    "    ohc[\"OHC_2000m\"] = rho0 * Cp * (ds[\"thetao\"] * ds[\"volcello\"]).sel(slice_2000).sum(dim=dims)\n",
    "    ohc[\"OHC_below_2000m\"] = rho0 * Cp * (ds[\"thetao\"] * ds[\"volcello\"]).sel(slice_b2000).sum(dim=dims)\n",
    "    ohc[\"OHC_full_depth\"] = rho0 * Cp * (ds[\"thetao\"] * ds[\"volcello\"]).sum(dim=dims)\n",
    "    return ohc\n",
    "\n",
    "def relative_ohc_ZJ(ohc):\n",
    "    return (ohc - ohc.isel(time=0)) / 1e21\n",
    "\n",
    "def rebase_obs(da, dateref):\n",
    "    return (da - da.sel(time=dateref).values[0]).sel(time=slice(dateref, None))\n",
    "\n",
    "def plot_ohc(Zanna, models, config):\n",
    "    \"\"\" plot 4 panels OHC \"\"\"\n",
    "    dateref = config[\"startyr\"]\n",
    "\n",
    "    f, axs = plt.subplots(ncols=2, nrows=2)\n",
    "\n",
    "    # 0-700 meters\n",
    "    rebase_obs(Zanna[\"OHC_700m\"], dateref).plot(ax=axs[0,0], label=\"Zanna\", color=\"k\")\n",
    "    for expname in models.keys():\n",
    "        ohc_plt = relative_ohc_ZJ(ohc_models[expname][\"OHC_700m\"])\n",
    "        ohc_plt.plot(ax=axs[0,0], label=expname)\n",
    "\n",
    "    # 0-2000 meters\n",
    "    rebase_obs(Zanna[\"OHC_2000m\"], dateref).plot(ax=axs[0,1], label=\"Zanna\", color=\"k\")\n",
    "    for expname in models.keys():\n",
    "        ohc_plt = relative_ohc_ZJ(ohc_models[expname][\"OHC_2000m\"])\n",
    "        ohc_plt.plot(ax=axs[0,1], label=expname)\n",
    "\n",
    "    # 2000-bottom meters\n",
    "    rebase_obs(Zanna[\"OHC_below_2000m\"], dateref).plot(ax=axs[1,0], label=\"Zanna\", color=\"k\")\n",
    "    for expname in models.keys():\n",
    "        ohc_plt = relative_ohc_ZJ(ohc_models[expname][\"OHC_below_2000m\"])\n",
    "        ohc_plt.plot(ax=axs[1,0], label=expname)\n",
    "\n",
    "    # full depth\n",
    "    rebase_obs(Zanna[\"OHC_full_depth\"], dateref).plot(ax=axs[1,1], label=\"Zanna\", color=\"k\")\n",
    "    for expname in models.keys():\n",
    "        ohc_plt = relative_ohc_ZJ(ohc_models[expname][\"OHC_full_depth\"])\n",
    "        ohc_plt.plot(ax=axs[1,1], label=expname)\n",
    "\n",
    "    # common cosmetics\n",
    "    for ax in axs.flatten():\n",
    "        ax.grid()\n",
    "        ax.set_ylabel(\"\")\n",
    "        ax.set_xlabel(\"\")\n",
    "        ax.set_xlim([cftime.datetime(int(dateref),1,1),\n",
    "                     cftime.datetime(2018,12,31)])\n",
    "\n",
    "    # plot by plot changes\n",
    "    axs[0,0].set_title(\"0-700 meters [ZJ]\")\n",
    "    axs[0,1].set_title(\"0-2000 meters [ZJ]\")\n",
    "    axs[1,0].set_title(\"below 2000 meters [ZJ]\")\n",
    "    axs[1,1].set_title(\"full depth [ZJ]\")\n",
    "    axs[0,1].legend(bbox_to_anchor=[1.6, 0.2])\n",
    "    axs[1,0].set_xlabel(\"year\")\n",
    "    axs[1,1].set_xlabel(\"year\")\n",
    "\n",
    "    plt.subplots_adjust(hspace=0.4)"
   ]
  },
  {
   "cell_type": "code",
   "execution_count": 13,
   "id": "38cb9702-7b99-48a9-96a6-bf8111d16750",
   "metadata": {
    "editable": true,
    "slideshow": {
     "slide_type": ""
    },
    "tags": []
   },
   "outputs": [],
   "source": [
    "%%capture\n",
    "ohc_models = {}\n",
    "for expname, ds in models.items():\n",
    "    ohc_exp = compute_OHC(ds[\"gds\"].data)\n",
    "    ohc_exp.load()\n",
    "    ohc_models[expname] = ohc_exp"
   ]
  },
  {
   "cell_type": "code",
   "execution_count": 14,
   "id": "18abca8c-dacb-42bc-9256-0af2f4beda74",
   "metadata": {
    "editable": true,
    "slideshow": {
     "slide_type": ""
    },
    "tags": []
   },
   "outputs": [
    {
     "data": {
      "image/png": "[encoded data removed]",
      "text/plain": [
       "<Figure size 640x480 with 4 Axes>"
      ]
     },
     "metadata": {},
     "output_type": "display_data"
    }
   ],
   "source": [
    "plot_ohc(Zanna, models, config)"
   ]
  }
 ],
 "metadata": {
  "kernelspec": {
   "display_name": "Analysis24micro",
   "language": "python",
   "name": "analysis24_py310"
  },
  "language_info": {
   "codemirror_mode": {
    "name": "ipython",
    "version": 3
   },
   "file_extension": ".py",
   "mimetype": "text/x-python",
   "name": "python",
   "nbconvert_exporter": "python",
   "pygments_lexer": "ipython3",
   "version": "3.10.15"
  }
 },
 "nbformat": 4,
 "nbformat_minor": 5
}
